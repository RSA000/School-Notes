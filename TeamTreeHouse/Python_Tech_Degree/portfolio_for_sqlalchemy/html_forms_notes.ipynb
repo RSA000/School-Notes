{
 "cells": [
  {
   "cell_type": "markdown",
   "metadata": {},
   "source": [
    "#### HTML Forms\n",
    "    * form element\n",
    "    * example\n",
    "``` html \n",
    "<form> </form> \n",
    "'''\n",
    "    * You cannot have forms nested inside other forms\n",
    "    * the action attribute is the web address of the program that processes the information submitted via the form.\n",
    "    * The method attribute is the http method that the http method that the browser uses to submit the form\n",
    "\n",
    "##### Two kinds of submitting\n",
    "    * POST corresponds to the http post method\n",
    "    * GET correspond to the http get method\n",
    "    * Most of the time you will use post\n",
    "\n",
    "#### The Input Element\n",
    "    * Is the most commonly used form element\n",
    "    * example:  \n",
    "``` html\n",
    "<form method=\"post\">\n",
    "<input type=\"'text\" id=\"name\" name=\"user_name\">\n",
    "</form>\n",
    "```\n",
    "* Three attributes in the above example:\n",
    "    * type: what type of values we want (other are email, tel, password)\n",
    "    * id: helpful for targeting elements with css or javascript. Associate labels with specific form controlls\n",
    "    * name: when a form is submitted to server side code, the server can understand the form data and process accordingly \n",
    "\n",
    "#### The Textarea Element\n",
    "    * example   \n",
    "``` html\n",
    "<textarea id='bio' name='user_bio'> </textarea>\n",
    "```\n",
    "\n",
    "#### Buttons\n",
    "    * example\n",
    "``` html\n",
    "<button type='submit'> Sign Up </button>\n",
    "```\n",
    "\n",
    "    * The above is type submit but there is also reset and button\n",
    "\n",
    "\n",
    "#### The Label Eleement\n",
    "    * example\n",
    "``` html\n",
    "<label for='name'>Name: </label>\n",
    "\n",
    "```\n",
    "\n",
    "\n",
    "#### Fieldsets and Legends\n",
    "* example of fieldset and legend\n",
    "```html\n",
    "<fieldset> </fieldset>\n",
    " <legend><span class=\"number\">1</span>Your basic info</legend>\n",
    "\n",
    "```\n",
    "\n",
    "#### Select Menus\n",
    "* example\n",
    "```html\n",
    "<label for='job'> Job role: </label>\n",
    "<select id='job' name='user_job'></select>\n",
    "    <option value='frontend_devoper'>Front-End Developer></option>\n",
    "    <option value='php_devoper'>PHP  Developer></option>\n",
    "    <option value='python_devoper'>Python Developer></option>\n",
    "    <option value='rails_devoper'>Rails Developer></option>\n",
    "    <option value='web_designer'>Front-End Developer></option>\n",
    "    <option value='wordpress_developer'>WordPress Developer></option>\n",
    "    <option value='android_developer'>Android Devoloper></option>\n",
    "    <option value='ios_developer'>IOS Developer</option>\n",
    "    <option value='mobile_designer'>Mobile Designer</option>\n",
    "    <option value='Business_owner'>Business Owner></option>\n",
    "    <option value='freelancer'>Freelancer></option>\n",
    "   \n",
    "```\n",
    "\n"
   ]
  },
  {
   "cell_type": "code",
   "execution_count": null,
   "metadata": {},
   "outputs": [],
   "source": []
  },
  {
   "cell_type": "markdown",
   "metadata": {},
   "source": [
    "##### "
   ]
  }
 ],
 "metadata": {
  "kernelspec": {
   "display_name": "Python 3.9.10 64-bit",
   "language": "python",
   "name": "python3"
  },
  "language_info": {
   "name": "python",
   "version": "3.9.10"
  },
  "orig_nbformat": 4,
  "vscode": {
   "interpreter": {
    "hash": "aee8b7b246df8f9039afb4144a1f6fd8d2ca17a180786b69acc140d282b71a49"
   }
  }
 },
 "nbformat": 4,
 "nbformat_minor": 2
}
