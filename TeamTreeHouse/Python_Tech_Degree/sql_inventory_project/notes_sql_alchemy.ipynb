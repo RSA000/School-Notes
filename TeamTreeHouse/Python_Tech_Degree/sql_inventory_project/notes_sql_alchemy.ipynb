{
 "cells": [
  {
   "cell_type": "markdown",
   "metadata": {},
   "source": [
    "### SQL Alchemy\n",
    "\n",
    "* SQL Alchemy is a is an ORM (Object Relational Mapper)\n",
    "* It takes data from SQL and transforms them into Python Objects\n",
    "* Allows you to Create, Read, Update, and Delete data with Python instead of using SQL \n"
   ]
  }
 ],
 "metadata": {
  "language_info": {
   "name": "python"
  },
  "orig_nbformat": 4
 },
 "nbformat": 4,
 "nbformat_minor": 2
}
