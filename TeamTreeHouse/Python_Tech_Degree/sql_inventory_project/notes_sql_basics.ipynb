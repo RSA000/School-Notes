{
 "cells": [
  {
   "cell_type": "markdown",
   "metadata": {},
   "source": [
    "###### SQL\n",
    "\n",
    "* Stands for Sequential Query Langauge\n",
    "\n",
    "* SQL Databases:\n",
    "    * MySQL\n",
    "    * PostegresSQL\n",
    "    * Microsoft SQL\n",
    "    * Oracle\n",
    "    * SQLite\n",
    "    * All these can databases can be queried with the SQL language\n",
    "\n",
    "* Other Databases (NoSQL):\n",
    "    * MongoDB\n",
    "    * CouchBase\n",
    "    * Redis\n",
    "\n",
    "* Schema\n",
    "    * shows how a database should be laid out and organized\n",
    "    * shows how certain sections relate to other sections\n",
    "\n",
    "* Several Common Data Types\n",
    "    * Text - storing names or description\n",
    "    * Numeric - storing prices, number\n",
    "    * Date - anything time related\n",
    "\n",
    "\n",
    "##### Key Words\n",
    "* Keywords are the vocabulary of a programming langauge, they are the commands issued to the computer\n",
    "    * In SQL, these are known as statements or queries\n",
    "\n",
    "##### SQL Syntax\n",
    "* SELECT [column] FROM [table] WHERE [condition] (=, !=, in, like) [value]\n",
    "\n",
    "* Operators\n",
    "    * = Equality Operator\n",
    "    * != Inequality Operator\n",
    "    * >< <= >= Greater and less than operators and also less/greater than or equal to operators \n",
    "    * AND OR are used to add more conditions. \n",
    "    * BETWEEN for ranges\n",
    "\n"
   ]
  },
  {
   "cell_type": "markdown",
   "metadata": {},
   "source": []
  }
 ],
 "metadata": {
  "language_info": {
   "name": "python"
  },
  "orig_nbformat": 4
 },
 "nbformat": 4,
 "nbformat_minor": 2
}
