{
 "cells": [
  {
   "cell_type": "markdown",
   "metadata": {},
   "source": [
    "### SQL Alchemy\n",
    "\n",
    "* SQL Alchemy is a is an ORM (Object Relational Mapper)\n",
    "* It takes data from SQL and transforms them into Python Objects\n",
    "* Allows you to Create, Read, Update, and Delete data with Python instead of using SQL \n"
   ]
  },
  {
   "cell_type": "code",
   "execution_count": 5,
   "metadata": {},
   "outputs": [],
   "source": [
    "from sqlalchemy import create_engine, Column, Integer, String\n",
    "from sqlalchemy.ext.declarative import declarative_base\n",
    "from sqlalchemy.orm import sessionmaker"
   ]
  },
  {
   "cell_type": "code",
   "execution_count": 6,
   "metadata": {},
   "outputs": [
    {
     "name": "stdout",
     "output_type": "stream",
     "text": [
      "2\n",
      "3\n",
      "4\n"
     ]
    }
   ],
   "source": [
    "engine = create_engine('sqlite:///users.db', echo = False )\n",
    "Session = sessionmaker(bind = engine)\n",
    "session = Session()\n",
    "Base = declarative_base()\n",
    "\n",
    "class User(Base):\n",
    "    __tablename__ = 'users'\n",
    "\n",
    "    id = Column(Integer, primary_key=True)\n",
    "    name = Column(String)\n",
    "    fullname = Column(String)\n",
    "    nickname = Column(String)\n",
    "\n",
    "def __repr__(self):\n",
    "    return f'<User(name={self.name}, full name={self.fullname}, nickname={self.nickname})>'\n",
    "\n",
    "if __name__ == '__main__':\n",
    "    Base.metadata.create_all(engine)\n",
    "\n",
    "    ## example from first lesson\n",
    "    # sull_user = User(name='Sullivan', fullname = 'Richard Sullivan Andison', nickname='Sully')\n",
    "    # # print(sull_user.name, sull_user.id)\n",
    "    # session.add(sull_user)\n",
    "    # session.commit()\n",
    "    # # print(sull_user.id)\n",
    "    # # session.add_all() ## will add multiple users\n",
    "    # new_users = [User(name='Grace', fullname='Grace Hopper', nickname='Pioneer'), User(name='Alan', fullname='Alan Turing', nickname='Computer Scientist'), \n",
    "    #                      User(name='Katherine', fullname='Katherine Johnson', nickname='') ]\n",
    "    # session.add_all(new_users)\n",
    "    # session.commit()\n",
    "\n",
    "    # for user in new_users:\n",
    "    #     print(user.id)\n",
    "\n",
    "\n"
   ]
  },
  {
   "cell_type": "code",
   "execution_count": null,
   "metadata": {},
   "outputs": [],
   "source": []
  }
 ],
 "metadata": {
  "kernelspec": {
   "display_name": "Python 3.9.10 ('env': venv)",
   "language": "python",
   "name": "python3"
  },
  "language_info": {
   "codemirror_mode": {
    "name": "ipython",
    "version": 3
   },
   "file_extension": ".py",
   "mimetype": "text/x-python",
   "name": "python",
   "nbconvert_exporter": "python",
   "pygments_lexer": "ipython3",
   "version": "3.9.10"
  },
  "orig_nbformat": 4,
  "vscode": {
   "interpreter": {
    "hash": "25bc1012b0fff9c09fe94a51083bdc20eb05e70b72211beabd8fcd9565794485"
   }
  }
 },
 "nbformat": 4,
 "nbformat_minor": 2
}
