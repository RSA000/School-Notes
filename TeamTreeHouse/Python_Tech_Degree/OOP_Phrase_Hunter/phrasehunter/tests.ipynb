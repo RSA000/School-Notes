{
 "cells": [
  {
   "cell_type": "code",
   "execution_count": 107,
   "metadata": {},
   "outputs": [],
   "source": [
    "import random"
   ]
  },
  {
   "cell_type": "code",
   "execution_count": 137,
   "metadata": {},
   "outputs": [],
   "source": [
    "class Phrase():\n",
    "\n",
    "\n",
    "    def __init__(self, phrase):\n",
    "        self.phrase = list(phrase.lower())\n",
    "    \n",
    "\n",
    "    def display(self, guesses):\n",
    "            correct_guessed = []\n",
    "            for i in self.phrase:\n",
    "                if i in guesses:\n",
    "                    correct_guessed.append(i)\n",
    "                else:\n",
    "                    correct_guessed.append('_ ')\n",
    "            return ''.join(correct_guessed)\n",
    "\n",
    "\n",
    "    def check_letter(self, guess):\n",
    "        if guess in self.phrase:\n",
    "            return True\n",
    "        else:\n",
    "            return False\n",
    "\n",
    "\n",
    "    def check_complete(self, guesses):\n",
    "        if (''.join(self.phrase)) == self.display(guesses):\n",
    "            return True\n",
    "        else:\n",
    "            return False\n",
    "\n"
   ]
  },
  {
   "cell_type": "code",
   "execution_count": 138,
   "metadata": {},
   "outputs": [
    {
     "name": "stdout",
     "output_type": "stream",
     "text": [
      "the best laid plans of mice and men\n",
      "t_ _  _ _ _ t _ _ _ _  _ _ _ _ _  _ _  _ _ _ _  _ _ _  _ _ _ \n",
      "True\n",
      "False\n"
     ]
    },
    {
     "data": {
      "text/plain": [
       "True"
      ]
     },
     "execution_count": 138,
     "metadata": {},
     "output_type": "execute_result"
    }
   ],
   "source": [
    "# creating a phrase\n",
    "phrase = Phrase('The best laid plans of mice and men')\n",
    "# displaying phrase with guesses containing all possible letters and only ' ' and 't'\n",
    "print(phrase.display([' ', 'a', 'b', 'c', 'd', 'e', 'f', 'g', 'h', 'i', 'j', 'k', 'l', 'm', 'n', 'o', 'p', 'q', 'r', 's', 't', 'u', 'v', 'w', 'x', 'y', 'z']))\n",
    "print(phrase.display([' ', 't']))\n",
    "# testing Boolean return of check letter\n",
    "print(phrase.check_letter('t'))\n",
    "print(phrase.check_letter('z'))\n",
    "# checking phrase check_complete \n",
    "phrase.check_complete([' ', 'a', 'b', 'c', 'd', 'e', 'f', 'g', 'h', 'i', 'j', 'k', 'l', 'm', 'n', 'o', 'p', 'q', 'r', 's', 't', 'u', 'v', 'w', 'x', 'y', 'z'])"
   ]
  },
  {
   "cell_type": "code",
   "execution_count": 106,
   "metadata": {},
   "outputs": [],
   "source": [
    "class Game():\n",
    "    phrases = []\n",
    "    active_phrases = None\n",
    "    guesses = [' ']\n",
    "    missed = 0\n",
    "\n",
    "    def welcome(self):\n",
    "        print('Phrase Guessing Game!')\n",
    "    \n",
    "\n",
    "    def get_random_phrase(self):\n",
    "        pass\n",
    "\n",
    "\n",
    "    def get_guess(self):\n",
    "        guess = input('Guess a letter: ').lower()\n",
    "        self.guesses.append(guess)\n",
    "\n",
    "\n",
    "    def game_over(self):\n",
    "        pass\n",
    "\n",
    "\n",
    "\n"
   ]
  },
  {
   "cell_type": "code",
   "execution_count": null,
   "metadata": {},
   "outputs": [],
   "source": []
  }
 ],
 "metadata": {
  "kernelspec": {
   "display_name": "Python 3.9.10 64-bit",
   "language": "python",
   "name": "python3"
  },
  "language_info": {
   "codemirror_mode": {
    "name": "ipython",
    "version": 3
   },
   "file_extension": ".py",
   "mimetype": "text/x-python",
   "name": "python",
   "nbconvert_exporter": "python",
   "pygments_lexer": "ipython3",
   "version": "3.9.10"
  },
  "orig_nbformat": 4,
  "vscode": {
   "interpreter": {
    "hash": "aee8b7b246df8f9039afb4144a1f6fd8d2ca17a180786b69acc140d282b71a49"
   }
  }
 },
 "nbformat": 4,
 "nbformat_minor": 2
}
