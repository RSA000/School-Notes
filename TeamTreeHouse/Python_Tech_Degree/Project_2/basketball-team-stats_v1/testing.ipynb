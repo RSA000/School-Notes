{
 "cells": [
  {
   "cell_type": "code",
   "execution_count": 3,
   "metadata": {},
   "outputs": [],
   "source": [
    "import constants\n",
    "import copy\n",
    "import os\n",
    "import re"
   ]
  },
  {
   "cell_type": "code",
   "execution_count": 38,
   "metadata": {},
   "outputs": [
    {
     "data": {
      "text/plain": [
       "['Warriors',\n",
       " [{'name': 'Diego Soto',\n",
       "   'guardians': 'Robin Soto  Sarika Soto',\n",
       "   'experience': True,\n",
       "   'height': '41'},\n",
       "  {'name': 'Joe Smith',\n",
       "   'guardians': 'Jim Smith  Jan Smith',\n",
       "   'experience': True,\n",
       "   'height': '42'},\n",
       "  {'name': 'Herschel Krustofski',\n",
       "   'guardians': 'Hyman Krustofski  Rachel Krustofski',\n",
       "   'experience': True,\n",
       "   'height': '45'},\n",
       "  {'name': 'Kimmy Stein',\n",
       "   'guardians': 'Bill Stein  Hillary Stein',\n",
       "   'experience': False,\n",
       "   'height': '41'},\n",
       "  {'name': 'Ben Finkelstein',\n",
       "   'guardians': 'Aaron Lanning  Jill Finkelstein',\n",
       "   'experience': False,\n",
       "   'height': '44'},\n",
       "  {'name': 'Eva Gordon',\n",
       "   'guardians': 'Wendy Martin  Mike Gordon',\n",
       "   'experience': False,\n",
       "   'height': '45'}],\n",
       " 'Bandits',\n",
       " [{'name': 'Jill Tanner',\n",
       "   'guardians': 'Mark Tanner',\n",
       "   'experience': True,\n",
       "   'height': '36'},\n",
       "  {'name': 'Suzane Greenberg',\n",
       "   'guardians': 'Henrietta Dumas',\n",
       "   'experience': True,\n",
       "   'height': '44'},\n",
       "  {'name': 'Les Clay',\n",
       "   'guardians': 'Wynonna Brown',\n",
       "   'experience': True,\n",
       "   'height': '42'},\n",
       "  {'name': 'Arnold Willis',\n",
       "   'guardians': 'Claire Willis',\n",
       "   'experience': False,\n",
       "   'height': '43'},\n",
       "  {'name': 'Sal Dali',\n",
       "   'guardians': 'Gala Dali',\n",
       "   'experience': False,\n",
       "   'height': '41'},\n",
       "  {'name': 'Joe Kavalier',\n",
       "   'guardians': 'Sam Kavalier  Elaine Kavalier',\n",
       "   'experience': False,\n",
       "   'height': '39'}],\n",
       " 'Panthers',\n",
       " [{'name': 'Phillip Helm',\n",
       "   'guardians': 'Thomas Helm  Eva Jones',\n",
       "   'experience': True,\n",
       "   'height': '44'},\n",
       "  {'name': 'Bill Bon',\n",
       "   'guardians': 'Sara Bon  Jenny Bon',\n",
       "   'experience': True,\n",
       "   'height': '43'},\n",
       "  {'name': 'Karl Saygan',\n",
       "   'guardians': 'Heather Bledsoe',\n",
       "   'experience': True,\n",
       "   'height': '42'},\n",
       "  {'name': 'Chloe Alaska',\n",
       "   'guardians': 'David Alaska  Jamie Alaska',\n",
       "   'experience': False,\n",
       "   'height': '47'},\n",
       "  {'name': 'Sammy Adams',\n",
       "   'guardians': 'Jeff Adams  Gary Adams',\n",
       "   'experience': False,\n",
       "   'height': '45'},\n",
       "  {'name': 'Matt Gill',\n",
       "   'guardians': 'Charles Gill  Sylvia Gill',\n",
       "   'experience': False,\n",
       "   'height': '40'}]]"
      ]
     },
     "execution_count": 38,
     "metadata": {},
     "output_type": "execute_result"
    }
   ],
   "source": [
    "import random\n",
    "\n",
    "def clean_data(data):\n",
    "    clean_data = copy.deepcopy(data)\n",
    "    for i in range(len(clean_data)):\n",
    "        clean_data[i]['height'] = (clean_data[i]['height'][:2])\n",
    "        if clean_data[i]['experience'] == 'YES':\n",
    "            clean_data[i]['experience'] = True\n",
    "        else:\n",
    "            clean_data[i]['experience'] = False\n",
    "        clean_data[i]['guardians'] = clean_data[i]['guardians'].replace('and', '')\n",
    "    return clean_data\n",
    "\n",
    "\n",
    "def balance_teams(teams, clean_data):\n",
    "    players_per_team = len(clean_data)/(len(teams))\n",
    "    experienced = [teammate for teammate in clean_data if teammate['experience'] == True]\n",
    "    inexperienced = [teammate for teammate in clean_data if teammate['experience'] == False]\n",
    "    teams_balanced = []\n",
    "    for team in range(len(teams), 0, -1):\n",
    "        teams_balanced.append(teams[team-1])\n",
    "        experienced_players =  [experienced.pop() for i in range(len(experienced)//(team))]\n",
    "        inexperienced_players = [inexperienced.pop() for i in range(len(inexperienced)//(team))]\n",
    "        teams_balanced.append(experienced_players + inexperienced_players)\n",
    "    return  teams_balanced\n",
    "    \n",
    "\n",
    "def display_teams(teams_sorted):\n",
    "    print('BASKETBALL TEAM STATS TOOL \\n\\n ---MENU---')\n",
    "    print('Options: \\n A) Display Team Stats \\n B) Quit')\n",
    "    while True:\n",
    "        os.system('clear')\n",
    "        option = input('Enter your choice: ').lower()\n",
    "        if option != 'a' and option != 'b':\n",
    "            print('invalid choice')\n",
    "            continue\n",
    "        elif option == 'a':\n",
    "            os.system('clear')\n",
    "            print('TEAMS:')\n",
    "            print(f'A) {teams_sorted[0]} \\nB) {teams_sorted[2]} \\nC) {teams_sorted[4]} \\n')\n",
    "        elif option == 'b':\n",
    "            break\n",
    "\n",
    "\n",
    "team_list = clean_data(constants.PLAYERS)\n",
    "teams_sorted = balance_teams(constants.TEAMS, team_list)\n",
    "teams_sorted\n"
   ]
  },
  {
   "cell_type": "code",
   "execution_count": 16,
   "metadata": {},
   "outputs": [
    {
     "name": "stdout",
     "output_type": "stream",
     "text": [
      "3\n",
      "2\n",
      "1\n"
     ]
    }
   ],
   "source": [
    "for i in range(3, 0, -1):\n",
    "    print(i)"
   ]
  },
  {
   "cell_type": "code",
   "execution_count": null,
   "metadata": {},
   "outputs": [],
   "source": []
  }
 ],
 "metadata": {
  "kernelspec": {
   "display_name": "Python 3.9.10 64-bit",
   "language": "python",
   "name": "python3"
  },
  "language_info": {
   "codemirror_mode": {
    "name": "ipython",
    "version": 3
   },
   "file_extension": ".py",
   "mimetype": "text/x-python",
   "name": "python",
   "nbconvert_exporter": "python",
   "pygments_lexer": "ipython3",
   "version": "3.9.10"
  },
  "orig_nbformat": 4,
  "vscode": {
   "interpreter": {
    "hash": "aee8b7b246df8f9039afb4144a1f6fd8d2ca17a180786b69acc140d282b71a49"
   }
  }
 },
 "nbformat": 4,
 "nbformat_minor": 2
}
