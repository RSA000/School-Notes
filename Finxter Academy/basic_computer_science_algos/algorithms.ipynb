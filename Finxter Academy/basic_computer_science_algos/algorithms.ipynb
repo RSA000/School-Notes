{
 "cells": [
  {
   "cell_type": "markdown",
   "metadata": {},
   "source": [
    "### Anagrams \n",
    "\n",
    "From Wordnik: A word or phrase formed by reordering the letters of another word or phrase, such as satin to stain.\n",
    "\n",
    "ex: \"Tom Marvolo Riddle\" is an anagram for \"I am Lord Voldemort\" "
   ]
  },
  {
   "cell_type": "code",
   "execution_count": 1,
   "metadata": {},
   "outputs": [
    {
     "name": "stdout",
     "output_type": "stream",
     "text": [
      "True\n",
      "True\n",
      "False\n",
      "['e', 'i', 'l', 's', 'v']\n",
      "['e', 'i', 'l', 's', 'v']\n"
     ]
    }
   ],
   "source": [
    "# Anagrams\n",
    "# One-line\n",
    "# sorted takes n*log(n)\n",
    "is_anagram = lambda x1, x2: sorted(x1) == sorted(x2)\n",
    "\n",
    "# Results\n",
    "print(is_anagram(\"elvis\", \"lives\"))\n",
    "print(is_anagram(\"elvise\", \"livees\"))\n",
    "print(is_anagram(\"elvis\", \"dead\"))\n",
    "\n",
    "print(sorted(\"elivs\"))\n",
    "print(sorted(\"lives\"))"
   ]
  },
  {
   "cell_type": "markdown",
   "metadata": {},
   "source": [
    "### Palindromes\n",
    "\n",
    "Palindromes are words read backwords and forwards\n",
    "\n",
    "ex: \"anna\", \"zuzuz\", \"mr rowl ate my metal worm\". \n"
   ]
  },
  {
   "cell_type": "code",
   "execution_count": 2,
   "metadata": {},
   "outputs": [
    {
     "name": "stdout",
     "output_type": "stream",
     "text": [
      "True\n",
      "False\n",
      "True\n"
     ]
    }
   ],
   "source": [
    "# Palindromes\n",
    "\n",
    "# One-Liner\n",
    "is_palindrome = lambda phrase: phrase == phrase[::-1]\n",
    "\n",
    "# Result\n",
    "print(is_palindrome(\"anna\"))\n",
    "print(is_palindrome(\"kdljfasjf\"))\n",
    "print(is_palindrome(\"rats live on no evil star\"))"
   ]
  },
  {
   "cell_type": "markdown",
   "metadata": {},
   "source": [
    "### Fibonacci Sequence\n",
    "\n",
    "A fibonacci is when the next number in a sequence is the sum of the previous two numbers in the sequence.\n",
    "\n",
    "ex: 0, 1, 1, 2, 3, 5, 8, 13, 21, etc..."
   ]
  },
  {
   "cell_type": "code",
   "execution_count": 3,
   "metadata": {},
   "outputs": [
    {
     "name": "stdout",
     "output_type": "stream",
     "text": [
      "[0, 1, 1, 2, 3, 5, 8, 13, 21, 34]\n"
     ]
    }
   ],
   "source": [
    "# Fibonacci Sequence \n",
    "\n",
    "fibs = [0, 1]\n",
    "n = 10\n",
    "\n",
    "# basic way\n",
    "for i in range(n-2):\n",
    "    fibs.append(fibs[-1] + fibs[-2])\n",
    "\n",
    "print(fibs)"
   ]
  },
  {
   "cell_type": "code",
   "execution_count": 4,
   "metadata": {},
   "outputs": [
    {
     "name": "stdout",
     "output_type": "stream",
     "text": [
      "[0, 1, 1, 2, 3, 5, 8, 13, 21, 34]\n"
     ]
    }
   ],
   "source": [
    "# advanced one-liner way\n",
    "\n",
    "fibs = [0, 1]\n",
    "n = 10\n",
    "\n",
    "[fibs.append(fibs[-1] + fibs[-2]) for i in range(n-2)]\n",
    "\n",
    "print(fibs)"
   ]
  },
  {
   "cell_type": "code",
   "execution_count": 5,
   "metadata": {},
   "outputs": [
    {
     "name": "stdout",
     "output_type": "stream",
     "text": [
      "[0, 1, 1, 2, 3, 5, 8, 13, 21, 34]\n"
     ]
    }
   ],
   "source": [
    "# Using the reduce function\n",
    "from functools import reduce\n",
    "# This function is used to get a single value result by solving a sequence on a two-argument function\n",
    "\n",
    "n = 10\n",
    "\n",
    "fibs = reduce(lambda x, _: x + [x[-2] + x[-1]], [0] * (n-2), [0, 1])\n",
    "\n",
    "print(fibs)"
   ]
  },
  {
   "cell_type": "markdown",
   "metadata": {},
   "source": [
    "### Factorial\n",
    "\n",
    "In mathematics, a continued product of the form Fx, F(x+1), F(x+2), F(x+3), ... F(x+n) in which every factor after the first is derived from the preceding by increasing the variable by unity.\n",
    "\n",
    "-- The American Heritage. \n",
    "\n",
    "n! = n*(n-1) * (n-2) * 1"
   ]
  },
  {
   "cell_type": "code",
   "execution_count": 6,
   "metadata": {},
   "outputs": [
    {
     "name": "stdout",
     "output_type": "stream",
     "text": [
      "6\n"
     ]
    }
   ],
   "source": [
    "n = 3\n",
    "factorial = lambda x: x * factorial(x-1) if x >= 1 else 1\n",
    "print(factorial(n))\n"
   ]
  },
  {
   "cell_type": "markdown",
   "metadata": {},
   "source": [
    "### Rot13\n",
    "Stands for rotate string by 13 position\n",
    "%26 becuase there are 26 characters.\n",
    "\n",
    "Basic Encryption Algorithm \n",
    "\n"
   ]
  },
  {
   "cell_type": "code",
   "execution_count": 7,
   "metadata": {},
   "outputs": [
    {
     "name": "stdout",
     "output_type": "stream",
     "text": [
      "kgurkehffvnafknerkpbzvat\n",
      "xthexrussiansxarexcoming\n"
     ]
    }
   ],
   "source": [
    "## Data \n",
    "abc  = \"abcdefghijklmnopqrstuvwxyz\"\n",
    "s = \"xthexrussiansxarexcoming\"\n",
    "\n",
    "## One-Liner\n",
    "rt13 = lambda x: \"\".join([abc[(abc.find(c)+13)%26] for c in x])\n",
    "\n",
    "## Result\n",
    "print(rt13(s))\n",
    "\n",
    "print(rt13(rt13(s)))"
   ]
  },
  {
   "cell_type": "markdown",
   "metadata": {},
   "source": []
  },
  {
   "cell_type": "code",
   "execution_count": 8,
   "metadata": {},
   "outputs": [
    {
     "data": {
      "text/plain": [
       "'thexrussiansxarexcoming'"
      ]
     },
     "execution_count": 8,
     "metadata": {},
     "output_type": "execute_result"
    }
   ],
   "source": [
    "def rot13(phrase):\n",
    "    abc = 'abcdefghijklmnopqrstuvwxyz'\n",
    "    out_phrase = ''\n",
    "    \n",
    "    for char in phrase:\n",
    "        out_phrase += abc[(abc.find(char) + 13) % 26]\n",
    "    return(out_phrase)\n",
    "\n",
    "# encrypt\n",
    "rot13('thexrussiansxarexcoming')\n",
    "\n",
    "#  decrypt\n",
    "rot13(rot13('thexrussiansxarexcoming'))"
   ]
  },
  {
   "cell_type": "code",
   "execution_count": 9,
   "metadata": {},
   "outputs": [
    {
     "data": {
      "text/plain": [
       "'gurkehffvnafknerkpbzvat'"
      ]
     },
     "execution_count": 9,
     "metadata": {},
     "output_type": "execute_result"
    }
   ],
   "source": [
    "# usings codecs\n",
    "import codecs\n",
    "\n",
    "phrase = 'thexrussiansxarexcoming'\n",
    "\n",
    "codecs.encode(phrase, 'rot_13')"
   ]
  },
  {
   "cell_type": "markdown",
   "metadata": {},
   "source": [
    "### Sieve of Eratosthenes\n",
    "\n",
    "Detects prime numbers"
   ]
  },
  {
   "cell_type": "code",
   "execution_count": 10,
   "metadata": {},
   "outputs": [
    {
     "name": "stdout",
     "output_type": "stream",
     "text": [
      "False\n",
      "True\n",
      "True\n",
      "[2, 3, 5, 7, 11, 13, 17, 19]\n"
     ]
    }
   ],
   "source": [
    "def is_prime(n):\n",
    "    for i in range(2,n):\n",
    "        if n % i == 0:\n",
    "            return False\n",
    "    return True\n",
    "\n",
    "print(is_prime(10))\n",
    "# False\n",
    "\n",
    "print(is_prime(11))\n",
    "True\n",
    "\n",
    "print(is_prime(7919))\n",
    "# True\n",
    "\n",
    "# Find all prime numbers <m\n",
    "m = 20\n",
    "primes = [x for x in range(2,m) if is_prime(x)]\n",
    "\n",
    "print(primes)\n",
    "\n",
    "# time complexity --> quadratic\n"
   ]
  },
  {
   "cell_type": "code",
   "execution_count": 11,
   "metadata": {},
   "outputs": [
    {
     "name": "stdout",
     "output_type": "stream",
     "text": [
      "{2, 3, 5, 7, 11, 13, 17, 19, 23, 29, 31, 37, 41, 43, 47, 53, 59, 61, 67, 71, 73, 79, 83, 89, 97}\n"
     ]
    }
   ],
   "source": [
    "## Dependencies\n",
    "from functools import reduce\n",
    "\n",
    "## The Data\n",
    "n=100\n",
    "\n",
    "## The One-Liner\n",
    "\n",
    "primes = reduce(lambda r, x: r - set(range(x**2, n, x)) if x in r else r, range(2, int(n**0.5)), set(range(2, n)))\n",
    "\n",
    "## The Result \n",
    "print(primes)"
   ]
  },
  {
   "cell_type": "code",
   "execution_count": 12,
   "metadata": {},
   "outputs": [],
   "source": [
    "import numpy as np\n",
    "\n",
    "fibs = np.array([0, 1, 1, 2, 3, 5, 8, 13, 21])"
   ]
  },
  {
   "cell_type": "code",
   "execution_count": null,
   "metadata": {},
   "outputs": [],
   "source": []
  },
  {
   "cell_type": "markdown",
   "metadata": {},
   "source": [
    "### Powerset\n",
    "\n",
    "What is a powerset?\n",
    "\n",
    "The power set is a set which includes all the subsets including the empty set and the original set itself. It is usually denoted by P.\n",
    "\n",
    "example: \n",
    "\n",
    "s = {1, 2}\n",
    "\n",
    "P = {}, {1}, {2}, {1, 2}\n",
    "\n",
    "4 subsets\n",
    "\n",
    "for this example or set contains 2**2 sets = 4\n",
    "\n",
    "Each time we add an element to our set, we double the number of elements in our powerset\n",
    "\n",
    "example of the functools reduce functions\n",
    "\n",
    "ex:\n",
    "\n",
    "```python\n",
    "from functools import reduce\n",
    "\n",
    "reduce(lambda x, y: x + y, [1, 2, 3, 4], 0)\n",
    "```\n",
    "\n",
    "how this works:\n",
    "\n",
    "0 + 1 = 1 <br>\n",
    "1 + 2 = 3 <br>\n",
    "3 + 3 = 6 <br>\n",
    "6 + 4 = 10 <br>\n",
    "\n",
    "output = [10]"
   ]
  },
  {
   "cell_type": "code",
   "execution_count": 13,
   "metadata": {},
   "outputs": [
    {
     "name": "stdout",
     "output_type": "stream",
     "text": [
      "[set(), {1}, {2}, {1, 2}, {3}, {1, 3}, {2, 3}, {1, 2, 3}, {4}, {1, 4}, {2, 4}, {1, 2, 4}, {3, 4}, {1, 3, 4}, {2, 3, 4}, {1, 2, 3, 4}]\n"
     ]
    }
   ],
   "source": [
    "## How to find in Python\n",
    "\n",
    "from functools import reduce\n",
    "\n",
    "s = {1, 2, 3, 4}\n",
    "\n",
    "ps = lambda s: reduce(lambda P, y: P + [subset | {y} for subset in P], s, [set()] )# return the powerset of s\n",
    "# [set(), {1}]\n",
    "\n",
    "print(ps(s))\n",
    "# [set(), {1}, {2}, {1, 2}]\n"
   ]
  },
  {
   "cell_type": "markdown",
   "metadata": {},
   "source": [
    "### Levenshtein Distance/Edit Distance\n"
   ]
  },
  {
   "cell_type": "code",
   "execution_count": 21,
   "metadata": {},
   "outputs": [
    {
     "name": "stdout",
     "output_type": "stream",
     "text": [
      "5\n",
      "4\n",
      "3\n"
     ]
    }
   ],
   "source": [
    "a = 'cat'\n",
    "b = 'chello'\n",
    "c = 'chess'\n",
    "\n",
    "ls = lambda a, b: len(b) if not a else len(a) if not b else \\\n",
    "    min(ls(a[1:], b[1:]) + (a[0] != b[0]), #replacing\n",
    "        ls(a[1:], b)+1, #remove a[0]\n",
    "        ls(a,b[1:])+1) # insert b[0] at beginning of word a\n",
    "\n",
    "print(ls(a, b)) # 5\n",
    "print(ls(a,c)) # 4\n",
    "print(ls(b,c)) # 3\n",
    "\n"
   ]
  },
  {
   "cell_type": "markdown",
   "metadata": {},
   "source": [
    "### Quicksort\n",
    "\n",
    "Divide and conquer algorithm"
   ]
  },
  {
   "cell_type": "code",
   "execution_count": 26,
   "metadata": {},
   "outputs": [
    {
     "name": "stdout",
     "output_type": "stream",
     "text": [
      "[2, 3, 6, 33, 33, 45, 54]\n"
     ]
    }
   ],
   "source": [
    "## The Data\n",
    "unsorted = [33, 2, 3, 45, 6, 54, 33]\n",
    "\n",
    "## The One-Liner\n",
    "q = lambda l: q([x for x in l[1:] if x <= l[0]]) + [l[0]] + q([x for x in l if x > l[0]]) if l else []\n",
    "# lambda l: q(left) + pivot + q(right) if l else []\n",
    "\n",
    "\n",
    "## The Result\n",
    "print(q(unsorted))"
   ]
  },
  {
   "cell_type": "markdown",
   "metadata": {},
   "source": [
    "### Binary Search"
   ]
  },
  {
   "cell_type": "code",
   "execution_count": 27,
   "metadata": {},
   "outputs": [
    {
     "name": "stdout",
     "output_type": "stream",
     "text": [
      "4\n",
      "4\n"
     ]
    }
   ],
   "source": [
    "\n",
    "def binary_search(lst, value):\n",
    "    \"\"\"Assume lst is sorted\"\"\"\n",
    "    lo, hi = 0, len(lst)-1\n",
    "    while lo <= hi:\n",
    "        mid = (lo + hi) // 2\n",
    "        if lst[mid] < value:\n",
    "            lo = mid + 1\n",
    "        elif lst[mid] > value:\n",
    "            hi = mid -1\n",
    "        else:\n",
    "            return mid\n",
    "    return -1\n",
    "\n",
    "l = [7, 8, 45, 53, 56]\n",
    "x = 56\n",
    "\n",
    "bs = lambda l, x, lo=0, hi=len(l)-1: -1 if lo>hi else \\\n",
    "    (lo+hi)//2 if l[(lo+hi)//2]==x else \\\n",
    "    bs(l, x, lo, (lo+hi)//2-1) if l[(lo+hi)//2] > x else \\\n",
    "    bs(l, x, (lo+hi)//2+1, hi)\n",
    "\n",
    "print(bs(l,x))\n",
    "\n",
    "print(binary_search(l, x))"
   ]
  },
  {
   "cell_type": "markdown",
   "metadata": {},
   "source": [
    "### Floyd's Algorithm for Cycle Detection"
   ]
  },
  {
   "cell_type": "code",
   "execution_count": null,
   "metadata": {},
   "outputs": [],
   "source": []
  },
  {
   "cell_type": "markdown",
   "metadata": {},
   "source": []
  },
  {
   "cell_type": "markdown",
   "metadata": {},
   "source": [
    "### K-means Algorithm"
   ]
  },
  {
   "cell_type": "markdown",
   "metadata": {},
   "source": []
  },
  {
   "cell_type": "code",
   "execution_count": null,
   "metadata": {},
   "outputs": [],
   "source": []
  }
 ],
 "metadata": {
  "interpreter": {
   "hash": "c11202d2846b22eec7deaf37ea813ba92a5f75b5344a4d16688175855af7948e"
  },
  "kernelspec": {
   "display_name": "Python 3.9.12 ('base')",
   "language": "python",
   "name": "python3"
  },
  "language_info": {
   "codemirror_mode": {
    "name": "ipython",
    "version": 3
   },
   "file_extension": ".py",
   "mimetype": "text/x-python",
   "name": "python",
   "nbconvert_exporter": "python",
   "pygments_lexer": "ipython3",
   "version": "3.9.12"
  },
  "orig_nbformat": 4
 },
 "nbformat": 4,
 "nbformat_minor": 2
}
