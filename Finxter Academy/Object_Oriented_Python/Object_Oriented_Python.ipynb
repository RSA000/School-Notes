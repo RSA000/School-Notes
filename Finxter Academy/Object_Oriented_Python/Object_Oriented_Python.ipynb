{
 "cells": [
  {
   "cell_type": "markdown",
   "metadata": {},
   "source": [
    "### An Introduction to Python Classes\n",
    "\n",
    "Topics:\n",
    "\n",
    "* Object-Oriented Programming (OOP) vs Procedural Programming\n",
    "\n",
    "* Objects and Classes\n",
    "\n",
    "* Identify class components; variables, attributes, methods, __init__ and self\n",
    "\n",
    "* Create a class then an object from that class\n",
    "\n",
    "* Add methods to that class\n",
    "\n",
    "\n",
    "#### Procedural Programming\n",
    "\n",
    "* Linear and repetitive, using a lot of functions and code to solve a problem\n",
    "\n",
    "#### Object-Oriented Programming\n",
    "\n",
    "* Create reusable code\n",
    "\n",
    "* Utilise classes that act as a blueprint for an object\n",
    "\n",
    "* That class applies variables, attributes, and methods to an object\n",
    "\n",
    "* We create an instance of an object from a class"
   ]
  },
  {
   "cell_type": "code",
   "execution_count": 12,
   "metadata": {},
   "outputs": [],
   "source": [
    "# Creating a class\n",
    "\n",
    "class Stock: # [class, class_name,]:\n",
    "\n",
    "    category = \"Grocery Item\" # This is a class variable\n",
    "\n",
    "    # A class variable is something that applies to every object that is created\n",
    "    # from that class\n",
    "\n",
    "    # Attributes\n",
    "    # self is effectively a placeholder for created objects.\n",
    "    # self is a placeholder.\n",
    "\n",
    "    def __init__(self, stock_code, description, buy_price, mark_up):\n",
    "        # Four parameters\n",
    "        self.code = stock_code \n",
    "        self.desc = description\n",
    "        self.buy = buy_price\n",
    "        self.margin = mark_up\n",
    "\n",
    "    # Adding Methods\n",
    "    # Methods are effectively functions\n",
    "    def sell_price(self):\n",
    "        print('Retial price = $', round(self.buy * self.margin, 2))\n",
    "\n",
    "    def sale(self, discount):\n",
    "        print(f\"The discounted price of {C298.desc, round(self.buy * self.margin * (1-discount), 2)}\")\n",
    "\n"
   ]
  },
  {
   "cell_type": "code",
   "execution_count": 10,
   "metadata": {},
   "outputs": [
    {
     "name": "stdout",
     "output_type": "stream",
     "text": [
      "<__main__.Stock object at 0x7f9f28aeae50>\n",
      "['__class__', '__delattr__', '__dict__', '__dir__', '__doc__', '__eq__', '__format__', '__ge__', '__getattribute__', '__gt__', '__hash__', '__init__', '__init_subclass__', '__le__', '__lt__', '__module__', '__ne__', '__new__', '__reduce__', '__reduce_ex__', '__repr__', '__setattr__', '__sizeof__', '__str__', '__subclasshook__', '__weakref__', 'buy', 'category', 'code', 'desc', 'margin', 'sale', 'sell_price']\n"
     ]
    }
   ],
   "source": [
    "# Create, or 'instantiate' an object of class Stock\n",
    "\n",
    "C298 = Stock('C298', 'Chicken Soup', 0.75, 1.553)\n",
    "\n",
    "print(C298)\n",
    "print(dir(C298))"
   ]
  },
  {
   "cell_type": "code",
   "execution_count": 11,
   "metadata": {},
   "outputs": [
    {
     "name": "stdout",
     "output_type": "stream",
     "text": [
      "Grocery Item\n",
      "Chicken Soup\n",
      "0.75\n",
      "1.553\n",
      "C298 \n",
      "\n",
      "In the Grocery Item we have Chicken Soup, at the cost price of $0.75.\n"
     ]
    }
   ],
   "source": [
    "print(C298.category)\n",
    "print(C298.desc)\n",
    "print(C298.buy)\n",
    "print(C298.margin)\n",
    "print(C298.code, '\\n')\n",
    "\n",
    "print(f\"In the {C298.category} we have {C298.desc}, at the cost price of ${C298.buy}.\")"
   ]
  },
  {
   "cell_type": "code",
   "execution_count": 13,
   "metadata": {},
   "outputs": [
    {
     "name": "stdout",
     "output_type": "stream",
     "text": [
      "Retial price = $ 1.16\n",
      "The discounted price of ('Chicken Soup', 0.99)\n"
     ]
    }
   ],
   "source": [
    "C298 = Stock('C298', 'Chicken Soup', 0.75, 1.553)\n",
    "\n",
    "C298.sell_price()\n",
    "\n",
    "C298.sale(0.15)"
   ]
  }
 ],
 "metadata": {
  "interpreter": {
   "hash": "c11202d2846b22eec7deaf37ea813ba92a5f75b5344a4d16688175855af7948e"
  },
  "kernelspec": {
   "display_name": "Python 3.9.12 ('base')",
   "language": "python",
   "name": "python3"
  },
  "language_info": {
   "codemirror_mode": {
    "name": "ipython",
    "version": 3
   },
   "file_extension": ".py",
   "mimetype": "text/x-python",
   "name": "python",
   "nbconvert_exporter": "python",
   "pygments_lexer": "ipython3",
   "version": "3.9.12"
  },
  "orig_nbformat": 4
 },
 "nbformat": 4,
 "nbformat_minor": 2
}
