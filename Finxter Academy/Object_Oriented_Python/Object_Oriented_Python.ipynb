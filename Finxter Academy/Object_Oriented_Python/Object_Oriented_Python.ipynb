{
 "cells": [
  {
   "cell_type": "markdown",
   "metadata": {},
   "source": [
    "### An Introduction to Python Classes\n",
    "\n",
    "Topics:\n",
    "\n",
    "* Object-Oriented Programming (OOP) vs Procedural Programming\n",
    "\n",
    "* Objects and Classes\n",
    "\n",
    "* Identify class components; variables, attributes, methods, __init__ and self\n",
    "\n",
    "* Create a class then an object from that class\n",
    "\n",
    "* Add methods to that class\n",
    "\n",
    "\n",
    "#### Procedural Programming\n",
    "\n",
    "* Linear and repetitive, using a lot of functions and code to solve a problem\n",
    "\n",
    "#### Object-Oriented Programming\n",
    "\n",
    "* Create reusable code\n",
    "\n",
    "* Utilise classes that act as a blueprint for an object\n",
    "\n",
    "* That class applies variables, attributes, and methods to an object\n",
    "\n",
    "* We create an instance of an object from a class"
   ]
  },
  {
   "cell_type": "code",
   "execution_count": 61,
   "metadata": {},
   "outputs": [],
   "source": [
    "#Creating a class\n",
    "\n",
    "class Stock: # [class, class_name,]:\n",
    "\n",
    "    category = \"Grocery Item\" # This is a class variable\n",
    "\n",
    "    # A class variable is something that applies to every object that is created\n",
    "    # from that class\n",
    "\n",
    "    # Attributes\n",
    "    # self is effectively a placeholder for created objects.\n",
    "    # self is a placeholder.\n",
    "\n",
    "    def __init__(self, stock_code, description, buy_price, mark_up):\n",
    "        # Four parameters\n",
    "        self.code = stock_code \n",
    "        self.desc = description\n",
    "        self.buy = buy_price\n",
    "        self.margin = mark_up\n",
    "\n",
    "    # Adding Methods\n",
    "    # Methods are effectively functions\n",
    "    def sell_price(self):\n",
    "        print('Retial price = $', round(self.buy * self.margin, 2))\n",
    "\n",
    "    def sale(self, discount):\n",
    "        print(f\"The discounted price of {C298.desc, round(self.buy * self.margin * (1-discount), 2)}\")\n",
    "\n"
   ]
  },
  {
   "cell_type": "code",
   "execution_count": 52,
   "metadata": {},
   "outputs": [
    {
     "name": "stdout",
     "output_type": "stream",
     "text": [
      "<__main__.Stock object at 0x7f9f587e46a0>\n",
      "['__class__', '__delattr__', '__dict__', '__dir__', '__doc__', '__eq__', '__format__', '__ge__', '__getattribute__', '__gt__', '__hash__', '__init__', '__init_subclass__', '__le__', '__lt__', '__module__', '__ne__', '__new__', '__reduce__', '__reduce_ex__', '__repr__', '__setattr__', '__sizeof__', '__str__', '__subclasshook__', '__weakref__', 'buy', 'category', 'code', 'desc', 'margin', 'sale', 'sell_price']\n"
     ]
    }
   ],
   "source": [
    "# Create, or 'instantiate' an object of class Stock\n",
    "\n",
    "C298 = Stock('C298', 'Chicken Soup', 0.75, 1.553)\n",
    "\n",
    "print(C298)\n",
    "print(dir(C298))"
   ]
  },
  {
   "cell_type": "code",
   "execution_count": 53,
   "metadata": {},
   "outputs": [
    {
     "name": "stdout",
     "output_type": "stream",
     "text": [
      "Grocery Item\n",
      "Chicken Soup\n",
      "0.75\n",
      "1.553\n",
      "C298 \n",
      "\n",
      "In the Grocery Item we have Chicken Soup, at the cost price of $0.75.\n"
     ]
    }
   ],
   "source": [
    "print(C298.category)\n",
    "print(C298.desc)\n",
    "print(C298.buy)\n",
    "print(C298.margin)\n",
    "print(C298.code, '\\n')\n",
    "\n",
    "print(f\"In the {C298.category} we have {C298.desc}, at the cost price of ${C298.buy}.\")"
   ]
  },
  {
   "cell_type": "code",
   "execution_count": 54,
   "metadata": {},
   "outputs": [
    {
     "name": "stdout",
     "output_type": "stream",
     "text": [
      "Retial price = $ 1.16\n",
      "The discounted price of ('Chicken Soup', 0.99)\n"
     ]
    }
   ],
   "source": [
    "C298 = Stock('C298', 'Chicken Soup', 0.75, 1.553)\n",
    "\n",
    "C298.sell_price()\n",
    "\n",
    "C298.sale(0.15)"
   ]
  },
  {
   "cell_type": "markdown",
   "metadata": {},
   "source": [
    "### Inhertance, Encapsulation, and Polymorphism\n",
    "\n",
    "Topics\n",
    "\n",
    "* Discuss the topic of Inheritance with respect to classes\n",
    "\n",
    "* Introduce the Parent and Child terms used with class inheritance\n",
    "\n",
    "* Code some examples to illustrate inheritance in action\n",
    "\n",
    "* Create a second child class from the one parent to underline understanding\n",
    "\n",
    "* Describe Encapsulation and show an example in code\n",
    "\n",
    "* Discuss Polymorphism\n",
    "\n",
    "#### Inheritance\n",
    "\n",
    "* We use the analogy of Parent and Child\n",
    "\n",
    "* The Parent class gives the inheritance; the Child receives the inheritance\n",
    "\n",
    "* Attributes and methods of an existing class can be inherited\n",
    "\n",
    "* Yet separate attributes and methods can be added to the new class\n",
    "\n",
    "#### Encapsulation \n",
    "\n",
    "* In OOP used to limit modification to variables, attributes, or methods within a class\n",
    "\n",
    "* Uses a single or double underscore in front of the attribute name\n",
    "\n",
    "* Then will require a discrete method to enable change\n",
    "\n",
    "#### Polymorphism\n",
    "\n",
    "* The term refers to something having many forms\n",
    "\n",
    "* In OOP it refers to using the same function for different data types\n",
    "\n",
    "* It means the function's indifferent to the type of class; if the methods exist, it will use it.\n",
    "\n"
   ]
  },
  {
   "cell_type": "code",
   "execution_count": 58,
   "metadata": {},
   "outputs": [
    {
     "name": "stdout",
     "output_type": "stream",
     "text": [
      "Retial price = $ 1.16\n",
      "The discounted price of ('Chicken Soup', 0.99)\n",
      "Retial price = $ 1.07\n"
     ]
    }
   ],
   "source": [
    "# Creating a class\n",
    "# I copied the previous cell so there will be less scrolling\n",
    "# Running this will cause errors as it also demonstrates encapsulation with __margin and I didn't change margin in the others. \n",
    "\n",
    "class Stock: # [class, class_name,]:\n",
    "\n",
    "    category = \"Grocery Item\" # This is a class variable\n",
    "\n",
    "    # A class variable is something that applies to every object that is created\n",
    "    # from that class\n",
    "\n",
    "    # Attributes\n",
    "    # self is effectively a placeholder for created objects.\n",
    "    # self is a placeholder.\n",
    "\n",
    "    def __init__(self, stock_code, description, buy_price, mark_up):\n",
    "        # Four parameters\n",
    "        self.code = stock_code \n",
    "        self.desc = description\n",
    "        self.buy = buy_price\n",
    "        self.__margin = mark_up\n",
    "\n",
    "    # Adding Methods\n",
    "    # Methods are effectively functions\n",
    "    def sell_price(self):\n",
    "        print('Retial price = $', round(self.buy * self.__margin, 2))\n",
    "\n",
    "    def sale(self, discount):\n",
    "        print(f\"The discounted price of {C298.desc, round(self.buy * self.__margin * (1-discount), 2)}\")\n",
    "\n",
    "    def setMargin(self, new_margin):\n",
    "        self.__margin = new_margin\n",
    "\n",
    "\n",
    "C298 = Stock('C298', 'Chicken Soup', 0.75, 1.553)\n",
    "\n",
    "C298.sell_price()\n",
    "\n",
    "C298.__margin = 1.2\n",
    "\n",
    "C298.sale(0.15)\n",
    "\n",
    "C298.setMargin(1.426)\n",
    "\n",
    "C298.sell_price()"
   ]
  },
  {
   "cell_type": "code",
   "execution_count": 62,
   "metadata": {},
   "outputs": [
    {
     "name": "stdout",
     "output_type": "stream",
     "text": [
      "The discounted price of ('Chicken Soup', 0.99)\n",
      "Buy two Cans of Campbells 400 mls Chicken Soup and get one free. Pay only $1.16)\n"
     ]
    }
   ],
   "source": [
    "# Creating another class Canned\n",
    "\n",
    "class Canned(Stock): # referencing class Stock. Stock is the parent, canned is the child. \n",
    "    category = 'Cans'\n",
    "\n",
    "    def __init__(self, stock_code, description, buy_price, mark_up, volume, manuf):\n",
    "        Stock.__init__(self, stock_code, description, buy_price, mark_up)\n",
    "        self.volume = volume\n",
    "        self.manuf = manuf\n",
    "\n",
    "    def multi_buy(self):\n",
    "        print(f'Buy two {self.category} of {self.manuf} {self.volume} {self.desc} and get one free. Pay only ${round(self.buy * self.margin, 2)})')\n",
    "\n",
    "    def Label(self):\n",
    "        print(self.desc, '\\nVolume: ', self.volume)\n",
    "        self.sell_price\n",
    "\n",
    "\n",
    "C298 = Canned('C298', 'Chicken Soup', 0.75, 1.553, '400 mls', 'Campbells')\n",
    "\n",
    "C298.sale(.15)\n",
    "\n",
    "C298.multi_buy()\n"
   ]
  },
  {
   "cell_type": "code",
   "execution_count": 63,
   "metadata": {},
   "outputs": [
    {
     "name": "stdout",
     "output_type": "stream",
     "text": [
      "Sirloin Steak \n",
      "Weight:  0.324 kgs \n",
      "Expiry:  15 June 2021\n",
      "Retial price = $ 6.88\n",
      "\n",
      "Price reduced for quick sale: $4.47\n",
      "\n",
      "Buy two Cans of Campbells 400 mls Chicken Soup and get one free. Pay only $1.16)\n",
      "Sirloin Steak \n",
      "Weight:  0.324 kgs \n",
      "Expiry:  15 June 2021\n",
      "Retial price = $ 6.88\n",
      "\n",
      "Chicken Soup \n",
      "Volume:  400 mls\n",
      "\n"
     ]
    }
   ],
   "source": [
    "# Creating a meat class\n",
    "\n",
    "class Meat(Stock):\n",
    "    category = 'Meat'\n",
    "\n",
    "    def __init__(self, stock_code, description, buy_price, mark_up, weight, use_by):\n",
    "        self.kilo = weight\n",
    "        self.expiry = use_by\n",
    "        Stock.__init__(self, stock_code, description, buy_price, mark_up)\n",
    "\n",
    "    def Label(self):\n",
    "        print(self.desc, '\\nWeight: ', self.kilo, 'kgs', '\\nExpiry: ', self.expiry)\n",
    "        self.sell_price()\n",
    "\n",
    "    def Expiring(self, discount):\n",
    "        print(f'Price reduced for quick sale: ${round(self.buy * self.margin * (1 - discount), 2)}')\n",
    "\n",
    "\n",
    "C401 = Meat('C401', 'Sirloin Steak', 4.16, 1.654, .324, '15 June 2021')\n",
    "\n",
    "C298 = Canned('C298', 'Chicken Soup', 0.75, 1.553, '400 mls', 'Campbells')\n",
    "\n",
    "C401.Label()\n",
    "print()\n",
    "C401.Expiring(0.35)\n",
    "print()\n",
    "C298.multi_buy()\n",
    "\n",
    "\n",
    "def label_print(*args):\n",
    "    for elem in args:\n",
    "        elem.Label()\n",
    "        print()\n",
    "\n",
    "label_print(C401, C298)"
   ]
  },
  {
   "cell_type": "code",
   "execution_count": null,
   "metadata": {},
   "outputs": [],
   "source": []
  }
 ],
 "metadata": {
  "interpreter": {
   "hash": "c11202d2846b22eec7deaf37ea813ba92a5f75b5344a4d16688175855af7948e"
  },
  "kernelspec": {
   "display_name": "Python 3.9.12 ('base')",
   "language": "python",
   "name": "python3"
  },
  "language_info": {
   "codemirror_mode": {
    "name": "ipython",
    "version": 3
   },
   "file_extension": ".py",
   "mimetype": "text/x-python",
   "name": "python",
   "nbconvert_exporter": "python",
   "pygments_lexer": "ipython3",
   "version": "3.9.12"
  },
  "orig_nbformat": 4
 },
 "nbformat": 4,
 "nbformat_minor": 2
}
