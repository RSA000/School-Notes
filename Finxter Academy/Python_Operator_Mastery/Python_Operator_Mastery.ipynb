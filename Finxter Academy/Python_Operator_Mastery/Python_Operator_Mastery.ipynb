{
 "cells": [
  {
   "cell_type": "markdown",
   "metadata": {},
   "source": [
    "##### Python Greater Than Operator\n",
    "\n",
    "topics: \n",
    "\n",
    "* Create a custom > \n",
    "* Apply > operator to lists\n",
    "\n",
    "The > operator has two operands:\n",
    "\n",
    "```python\n",
    "\n",
    "3 > 2\n",
    "```\n",
    "\n",
    "syntax: left > right\n",
    "\n",
    "Will return True if left operand is greater than right.\n",
    "\n",
    "##### Applying > to sequences such as lists:"
   ]
  },
  {
   "cell_type": "code",
   "execution_count": 23,
   "metadata": {},
   "outputs": [
    {
     "name": "stdout",
     "output_type": "stream",
     "text": [
      "False\n",
      "True\n",
      "True\n",
      "False\n",
      "True\n",
      "True\n",
      "True\n",
      "False\n",
      "False\n"
     ]
    }
   ],
   "source": [
    "print([1] > [2]) # Will return False\n",
    "\n",
    "print([1, 2] > [1, 1]) # will return True 2nd element is the 'tie breaker'\n",
    "\n",
    "print([1, 2, 2, 2, 3] > [1, 2, 2, 2, 2]) # will return true\n",
    "\n",
    "print([1, 2] > [1, 2, 1]) # lists with different lengths, will return false\n",
    "\n",
    "print([10] > [1, 1, 1, 1, 1, 1, 1, 1, 1, 1, 1]) # will return True\n",
    "\n",
    "print((10,) > (2, 2, 2, 2)) # Will return True\n",
    "\n",
    "print((10,) > (2, 1000000)) # will return True\n",
    "\n",
    "print('abc' > 'cba') # will return False\n",
    "\n",
    "print('a' > 'b') # will return False\n"
   ]
  },
  {
   "cell_type": "code",
   "execution_count": 28,
   "metadata": {},
   "outputs": [
    {
     "name": "stdout",
     "output_type": "stream",
     "text": [
      "False\n",
      "True\n"
     ]
    }
   ],
   "source": [
    "# Creating custom > operator\n",
    "\n",
    "class Person:\n",
    "    def __init__(self, age):\n",
    "        self.age = age\n",
    "    \n",
    "    def __gt__(self, other):\n",
    "        return self.age > other.age\n",
    "\n",
    "\n",
    "    \n",
    "alice = Person(10)\n",
    "bob = Person(12)\n",
    "\n",
    "print(alice > bob) # = alice.__gt__(bob), result will be False\n",
    "\n",
    "print(bob > alice) # should return True"
   ]
  },
  {
   "cell_type": "markdown",
   "metadata": {},
   "source": [
    "##### Python Less Than Operator. \n",
    "\n",
    "* Pretty much the same as the > operator\n",
    "\n",
    "* Has two operands \n",
    "\n",
    "``` python\n",
    "\n",
    "2 < 3\n",
    "\n",
    "```\n",
    "\n",
    "syntax: left < right"
   ]
  },
  {
   "cell_type": "code",
   "execution_count": 37,
   "metadata": {},
   "outputs": [
    {
     "name": "stdout",
     "output_type": "stream",
     "text": [
      "False\n",
      "False\n",
      "True\n",
      "True\n",
      "True\n",
      "97\n",
      "98\n"
     ]
    }
   ],
   "source": [
    "print(3 < 2) # returns False\n",
    "print([1, 2] < [0, 1]) # returns False, example of short circuiting\n",
    "print([1, 2] < [1,3]) # returns True\n",
    "print([1, 2]<[1, 2, -10000]) # returns True\n",
    "print('aabb' < 'bbaa') # returns True\n",
    "print(ord('a')) # Unicode number in decimal form\n",
    "print(ord('b')) # b ordinal number is larger than a orginal number 97<98"
   ]
  },
  {
   "cell_type": "code",
   "execution_count": 42,
   "metadata": {},
   "outputs": [
    {
     "name": "stdout",
     "output_type": "stream",
     "text": [
      "True\n",
      "False\n",
      "True\n"
     ]
    }
   ],
   "source": [
    "# creating custom < operator\n",
    "class Person:\n",
    "    def __init__(self, name, age):\n",
    "        self.name = name\n",
    "        self.age = age\n",
    "\n",
    "    def __lt__(self, other):\n",
    "        return self.age < other.age\n",
    "\n",
    "\n",
    "alice = Person('alice', 18)\n",
    "bob = Person('bob', 21)\n",
    "carl = Person('carl', 24)\n",
    "print(alice < bob) # alice.__lt__(bob)\n",
    "print(bob < alice) # bob.__lt__(alice)\n",
    "print(alice < bob < carl) # code below does the same thing essentially\n",
    "print((alice < bob) and (bob < carl))"
   ]
  },
  {
   "cell_type": "markdown",
   "metadata": {},
   "source": [
    "#### Python == To Operator (Equal to)\n",
    "\n",
    "Left == Right\n",
    "\n",
    "Returns boolean value depending on whether left and right operands are equal to each other \n",
    "\n",
    "```python\n",
    "\n",
    "x = 42\n",
    "y = 21 + 21\n",
    "\n",
    "x == y\n",
    "\n",
    "``` \n",
    "\n",
    "output: True\n",
    "\n",
    "```python \n",
    "\n",
    "'hello' == 'he' + 'llo'\n",
    "```\n",
    "\n",
    "output = True\n",
    "\n",
    "``` python \n",
    "\n",
    "[1, 2] == [1, 2, 3]\n",
    "\n",
    "# False\n",
    "\n",
    "[1] == [1]\n",
    "\n",
    "# True\n",
    "\n",
    "[1] is [1]\n",
    "\n",
    "# False\n",
    "\n",
    "```\n",
    "\n"
   ]
  },
  {
   "cell_type": "code",
   "execution_count": 49,
   "metadata": {},
   "outputs": [
    {
     "name": "stdout",
     "output_type": "stream",
     "text": [
      "False\n",
      "True\n"
     ]
    }
   ],
   "source": [
    "class Person:\n",
    "    def __init__(self, age):\n",
    "        self.age = age\n",
    "\n",
    "    # Overiding the magic method __eq__\n",
    "    def __eq__(self, other):\n",
    "        return self.age == other.age\n",
    "\n",
    "alice = Person(18)\n",
    "bob = Person(19)\n",
    "carl = Person(18)\n",
    "\n",
    "print(alice == bob) # returns False\n",
    "\n",
    "print(alice == carl) # returns True"
   ]
  },
  {
   "cell_type": "code",
   "execution_count": 51,
   "metadata": {},
   "outputs": [
    {
     "data": {
      "text/plain": [
       "True"
      ]
     },
     "execution_count": 51,
     "metadata": {},
     "output_type": "execute_result"
    }
   ],
   "source": [
    "x = 43 - 1\n",
    "y = 42\n",
    "z = 21 + 21\n",
    "\n",
    "print(x == y == z) # example of chaining. Alternative to and\n",
    "\n",
    "print((x == y) and (y == z)) # same as above"
   ]
  },
  {
   "cell_type": "code",
   "execution_count": 52,
   "metadata": {},
   "outputs": [
    {
     "data": {
      "text/plain": [
       "True"
      ]
     },
     "execution_count": 52,
     "metadata": {},
     "output_type": "execute_result"
    }
   ],
   "source": [
    "x = 42\n",
    "a = 21 + 21\n",
    "b = 43 * 2\n",
    "x in {a, b}"
   ]
  },
  {
   "cell_type": "code",
   "execution_count": 54,
   "metadata": {},
   "outputs": [
    {
     "data": {
      "text/plain": [
       "True"
      ]
     },
     "execution_count": 54,
     "metadata": {},
     "output_type": "execute_result"
    }
   ],
   "source": [
    "lst = ['alice', 'bob', 'carl' , 42, None, 21]\n",
    "query = 'carl'\n",
    "\n",
    "# # 'clunky' way of checking if value is inside list\n",
    "# for x in lst:\n",
    "#     if x == query:\n",
    "#         print('Yay')\n",
    "\n",
    "# better way\n",
    "query in set(lst)\n",
    "\n",
    "# also \n",
    "query in lst"
   ]
  },
  {
   "cell_type": "code",
   "execution_count": 58,
   "metadata": {},
   "outputs": [
    {
     "data": {
      "text/plain": [
       "True"
      ]
     },
     "execution_count": 58,
     "metadata": {},
     "output_type": "execute_result"
    }
   ],
   "source": [
    "import math\n",
    "\n",
    "x = float('nan')\n",
    "x\n",
    "x + 2\n",
    "\n",
    "math.isnan(x)"
   ]
  },
  {
   "cell_type": "markdown",
   "metadata": {},
   "source": [
    "#### Python != Operator\n",
    "\n",
    "left operand != right operand\n"
   ]
  },
  {
   "cell_type": "code",
   "execution_count": 158,
   "metadata": {},
   "outputs": [
    {
     "name": "stdout",
     "output_type": "stream",
     "text": [
      "False\n"
     ]
    }
   ],
   "source": [
    "l1 = [1, 2, 3]\n",
    "l2 = [1, 2, 3]\n",
    "\n",
    "print(l1 != l2) # returns False"
   ]
  },
  {
   "cell_type": "code",
   "execution_count": 169,
   "metadata": {},
   "outputs": [
    {
     "name": "stdout",
     "output_type": "stream",
     "text": [
      "True\n",
      "True\n"
     ]
    }
   ],
   "source": [
    "class Person:\n",
    "    def __init__(self, age):\n",
    "        self.age = age\n",
    "\n",
    "alice = Person(18)\n",
    "bob = Person(19)\n",
    "carl = Person(18)\n",
    "\n",
    "print(alice != bob) # should return True\n",
    "print(alice != carl) # should return True"
   ]
  },
  {
   "cell_type": "code",
   "execution_count": 171,
   "metadata": {},
   "outputs": [
    {
     "name": "stdout",
     "output_type": "stream",
     "text": [
      "False\n",
      "True\n"
     ]
    }
   ],
   "source": [
    "# If you wanted to customize the != so that its based on the self.age\n",
    "\n",
    "class Person:\n",
    "    def __init__(self, age):\n",
    "        self.age = age\n",
    "\n",
    "    def __ne__(self, other):\n",
    "        return self.age != other.age\n",
    "\n",
    "alice = Person(18)\n",
    "bob = Person(19)\n",
    "carl = Person(18)\n",
    "\n",
    "print(alice != carl) # should return False\n",
    "\n",
    "print(alice != bob) # should return True\n"
   ]
  },
  {
   "cell_type": "code",
   "execution_count": 174,
   "metadata": {},
   "outputs": [
    {
     "name": "stdout",
     "output_type": "stream",
     "text": [
      "Yay\n"
     ]
    }
   ],
   "source": [
    "negatives = ['Ann', 'Bob', 'Carl']\n",
    "query = 'Alice'\n",
    "\n",
    "if query not in negatives: # checking for membership\n",
    "    print('Yay')"
   ]
  },
  {
   "cell_type": "code",
   "execution_count": 179,
   "metadata": {},
   "outputs": [],
   "source": [
    "x = int(input('your input'))\n",
    "\n",
    "if x != 0:\n",
    "    print(42/x)\n",
    "\n",
    "# more pythonic way\n",
    "\n",
    "if x:\n",
    "    print(42/x)"
   ]
  },
  {
   "cell_type": "markdown",
   "metadata": {},
   "source": [
    "##### Python >= Operator"
   ]
  },
  {
   "cell_type": "code",
   "execution_count": 180,
   "metadata": {},
   "outputs": [
    {
     "name": "stdout",
     "output_type": "stream",
     "text": [
      "False\n"
     ]
    }
   ],
   "source": [
    "x = 10\n",
    "y = 12\n",
    "\n",
    "print(x >= y)"
   ]
  },
  {
   "cell_type": "code",
   "execution_count": 182,
   "metadata": {},
   "outputs": [
    {
     "name": "stdout",
     "output_type": "stream",
     "text": [
      "False\n",
      "True\n",
      "True\n"
     ]
    }
   ],
   "source": [
    "class Person:\n",
    "    def __init__(self, age):\n",
    "        self.age = age\n",
    "    \n",
    "    def __ge__(self, other):\n",
    "        return self.age >= other.age\n",
    "\n",
    "alice = Person(10)\n",
    "bob = Person(12)\n",
    "\n",
    "print(alice >= bob) # returns False\n",
    "\n",
    "print(bob >= alice) # returns True\n",
    "\n",
    "print(bob >= bob) # returns True\n"
   ]
  },
  {
   "cell_type": "markdown",
   "metadata": {},
   "source": [
    "##### Python <= Operator\n",
    "\n",
    "left operand <= right operand"
   ]
  },
  {
   "cell_type": "code",
   "execution_count": 186,
   "metadata": {},
   "outputs": [
    {
     "name": "stdout",
     "output_type": "stream",
     "text": [
      "True\n",
      "True\n",
      "True\n",
      "True\n",
      "True\n",
      "False\n",
      "False\n",
      "True\n",
      "True\n"
     ]
    }
   ],
   "source": [
    "print(2<=3)  # returns True\n",
    "print(2<=2) # returns True\n",
    "print('a'<='b') # returns True\n",
    "print('aaa' <= 'bbb') # returns True\n",
    "print([1,2,3]<=[1,2,3]) # returns True\n",
    "print([1,2,3]<=[0,1]) # returns False\n",
    "print([1, 2, 3] <= [0, 999999]) # returns False, example of short-circuiting\n",
    "print((1, 2) <= (1, 2, 3)) # returns True, because no element compared to 3 is less than\n",
    "print(1.2<=1.3) # returns True"
   ]
  },
  {
   "cell_type": "code",
   "execution_count": 233,
   "metadata": {},
   "outputs": [
    {
     "name": "stdout",
     "output_type": "stream",
     "text": [
      "No\n",
      "0.3999999999999999\n"
     ]
    }
   ],
   "source": [
    "# float values can be a little tricky though\n",
    "\n",
    "x = 1.92 - 1.52\n",
    "\n",
    "if 0.40 <= x:\n",
    "    print('Yes')\n",
    "else:\n",
    "    print('No')\n",
    "\n",
    "# why does this return no?\n",
    "\n",
    "print(x) # this is why\n",
    "# This can be fixed by import Decimal from decimal"
   ]
  },
  {
   "cell_type": "code",
   "execution_count": 190,
   "metadata": {},
   "outputs": [
    {
     "name": "stdout",
     "output_type": "stream",
     "text": [
      "Yes!\n"
     ]
    }
   ],
   "source": [
    "from decimal import Decimal\n",
    "\n",
    "x = Decimal('1.92') - Decimal('1.52')\n",
    "if Decimal('0.40') <= x:\n",
    "    print('Yes!')\n",
    "else:\n",
    "    print('No!')"
   ]
  },
  {
   "cell_type": "code",
   "execution_count": 191,
   "metadata": {},
   "outputs": [
    {
     "name": "stdout",
     "output_type": "stream",
     "text": [
      "Hello world!\n"
     ]
    }
   ],
   "source": [
    "x = int(input('your age:'))\n",
    "\n",
    "if 5 <= x <= 18: # (5 <= x) and (5 <= 18)\n",
    "    print('Hello world!')\n",
    "else:\n",
    "    print('Good evening')"
   ]
  },
  {
   "cell_type": "code",
   "execution_count": 194,
   "metadata": {},
   "outputs": [
    {
     "name": "stdout",
     "output_type": "stream",
     "text": [
      "1\n",
      "3\n",
      "5\n"
     ]
    }
   ],
   "source": [
    "elements = [1, 3, 5, 7, 9]\n",
    "y = 5\n",
    "\n",
    "# list comprehension\n",
    "for element in [x for x in elements if x<=y]:\n",
    "    print(element)"
   ]
  },
  {
   "cell_type": "code",
   "execution_count": 196,
   "metadata": {},
   "outputs": [
    {
     "name": "stdout",
     "output_type": "stream",
     "text": [
      "True\n"
     ]
    }
   ],
   "source": [
    "class Person:\n",
    "    def __init__(self, age):\n",
    "        self.age = age\n",
    "\n",
    "# making custom <= operator\n",
    "    def __le__(self, other):\n",
    "        return self.age <= other.age\n",
    "\n",
    "alice = Person(18)\n",
    "bob = Person(21)\n",
    "carl = Person(24)\n",
    "\n",
    "print(alice <= bob)"
   ]
  },
  {
   "cell_type": "markdown",
   "metadata": {},
   "source": [
    "##### Python Addition Operator"
   ]
  },
  {
   "cell_type": "markdown",
   "metadata": {},
   "source": []
  },
  {
   "cell_type": "code",
   "execution_count": 210,
   "metadata": {},
   "outputs": [
    {
     "name": "stdout",
     "output_type": "stream",
     "text": [
      "2\n",
      "200\n",
      "learn python\n",
      "[1, 2, 3, 4]\n",
      "[[1, 2], 3, 'alice', 1, 2]\n"
     ]
    }
   ],
   "source": [
    "# with numbers\n",
    "\n",
    "print(1+1)\n",
    "print((99 + 1)*2) # precedence can be used with paranthesis\n",
    "\n",
    "# String concatenation\n",
    "print('learn ' + 'python')\n",
    "\n",
    "# With lists\n",
    "print([1, 2] + [3, 4])\n",
    "print([[1, 2], 3, 'alice'] + [1, 2])"
   ]
  },
  {
   "cell_type": "code",
   "execution_count": 223,
   "metadata": {},
   "outputs": [
    {
     "name": "stdout",
     "output_type": "stream",
     "text": [
      "['banana', 'apple', 'juice', 'bread', 'butter']\n"
     ]
    }
   ],
   "source": [
    "# magic methods \n",
    "\n",
    "class Basket:\n",
    "    def __init__(self, contents):\n",
    "        self.contents = contents # attribute\n",
    "\n",
    "    def __add__(self, other):\n",
    "        return Basket(self.contents + other.contents)\n",
    "\n",
    "\n",
    "\n",
    "my_basket = Basket(['banana', 'apple', 'juice'])\n",
    "your_basket = Basket(['bread', 'butter'])\n",
    "\n",
    "our_basket = my_basket + your_basket \n",
    "\n",
    "print(our_basket.contents)"
   ]
  },
  {
   "cell_type": "code",
   "execution_count": 220,
   "metadata": {},
   "outputs": [
    {
     "name": "stdout",
     "output_type": "stream",
     "text": [
      "1 + 3 = 4\n"
     ]
    }
   ],
   "source": [
    "num_1 = input('First number: ')\n",
    "num_2 = input('Second number: ')\n",
    "\n",
    "num_1 = int(num_1)\n",
    "num_2 = int(num_2)\n",
    "\n",
    "result = num_1 + num_2\n",
    "\n",
    "print(num_1, '+', num_2, '=', result)"
   ]
  },
  {
   "cell_type": "code",
   "execution_count": 224,
   "metadata": {},
   "outputs": [
    {
     "data": {
      "text/plain": [
       "17"
      ]
     },
     "execution_count": 224,
     "metadata": {},
     "output_type": "execute_result"
    }
   ],
   "source": [
    "# Example of chaining\n",
    "\n",
    "x = 10\n",
    "y = 5\n",
    "z = 2\n",
    "\n",
    "x + y + z"
   ]
  },
  {
   "cell_type": "markdown",
   "metadata": {},
   "source": [
    "##### Python - Operator\n",
    "\n",
    "Left Operand - Right Operand\n",
    "\n",
    "\n"
   ]
  },
  {
   "cell_type": "code",
   "execution_count": 237,
   "metadata": {},
   "outputs": [
    {
     "name": "stdout",
     "output_type": "stream",
     "text": [
      "1\n",
      "-1\n",
      "-98\n",
      "2.0\n"
     ]
    },
    {
     "data": {
      "text/plain": [
       "{1}"
      ]
     },
     "execution_count": 237,
     "metadata": {},
     "output_type": "execute_result"
    }
   ],
   "source": [
    "\n",
    "print(3-2)\n",
    "print(2-3)\n",
    "print(-99 - (-1))\n",
    "\n",
    "\n",
    "# floating and integers mixed\n",
    "\n",
    "print(3.0 - 1) # Will result in floating point number\n",
    "\n",
    "s = {1, 2, 3}\n",
    "t = {2, 3}\n",
    "\n",
    "s - t # operator is overloaded\n",
    "\n",
    "# the - operators function depends of the operands data type\n",
    "\n"
   ]
  },
  {
   "cell_type": "code",
   "execution_count": 242,
   "metadata": {},
   "outputs": [
    {
     "name": "stdout",
     "output_type": "stream",
     "text": [
      "{'coffee'}\n"
     ]
    }
   ],
   "source": [
    "# - operator magic method\n",
    "\n",
    "class Basket:\n",
    "    def __init__(self, goods):\n",
    "        self.goods = goods\n",
    "\n",
    "    def __sub__(self, other):\n",
    "        return self.goods - other.goods\n",
    "\n",
    "my_basket = Basket({'coffee', 'banana', 'bread'})\n",
    "to_remove = Basket({'bread', 'banana'})\n",
    "\n",
    "updated_basket = my_basket - to_remove\n",
    "\n",
    "print(updated_basket)"
   ]
  },
  {
   "cell_type": "code",
   "execution_count": 243,
   "metadata": {},
   "outputs": [
    {
     "ename": "TypeError",
     "evalue": "unsupported operand type(s) for -: 'list' and 'list'",
     "output_type": "error",
     "traceback": [
      "\u001b[0;31m---------------------------------------------------------------------------\u001b[0m",
      "\u001b[0;31mTypeError\u001b[0m                                 Traceback (most recent call last)",
      "\u001b[1;32m/Users/sullivanandison/Documents/Study_And_School_Notes/Finxter Academy/Python_Operator_Mastery/Python_Operator_Mastery.ipynb Cell 38'\u001b[0m in \u001b[0;36m<module>\u001b[0;34m\u001b[0m\n\u001b[1;32m      <a href='vscode-notebook-cell:/Users/sullivanandison/Documents/Study_And_School_Notes/Finxter%20Academy/Python_Operator_Mastery/Python_Operator_Mastery.ipynb#ch0000095?line=0'>1</a>\u001b[0m lst_1 \u001b[39m=\u001b[39m [\u001b[39m1\u001b[39m, \u001b[39m2\u001b[39m, \u001b[39m3\u001b[39m, \u001b[39m4\u001b[39m, \u001b[39m5\u001b[39m, \u001b[39m6\u001b[39m]\n\u001b[1;32m      <a href='vscode-notebook-cell:/Users/sullivanandison/Documents/Study_And_School_Notes/Finxter%20Academy/Python_Operator_Mastery/Python_Operator_Mastery.ipynb#ch0000095?line=1'>2</a>\u001b[0m lst_2 \u001b[39m=\u001b[39m [\u001b[39m1\u001b[39m, \u001b[39m2\u001b[39m, \u001b[39m3\u001b[39m]\n\u001b[0;32m----> <a href='vscode-notebook-cell:/Users/sullivanandison/Documents/Study_And_School_Notes/Finxter%20Academy/Python_Operator_Mastery/Python_Operator_Mastery.ipynb#ch0000095?line=2'>3</a>\u001b[0m difference \u001b[39m=\u001b[39m lst_1 \u001b[39m-\u001b[39;49m lst_2\n",
      "\u001b[0;31mTypeError\u001b[0m: unsupported operand type(s) for -: 'list' and 'list'"
     ]
    }
   ],
   "source": [
    "lst_1 = [1, 2, 3, 4, 5, 6]\n",
    "lst_2 = [1, 2, 3]\n",
    "difference = lst_1 - lst_2\n",
    "\n",
    "# this will throw an error. Not symatically clear"
   ]
  },
  {
   "cell_type": "code",
   "execution_count": 244,
   "metadata": {},
   "outputs": [
    {
     "name": "stdout",
     "output_type": "stream",
     "text": [
      "[4, 5, 6]\n"
     ]
    }
   ],
   "source": [
    "lst_1 = [1, 2, 3, 4, 5, 6]\n",
    "lst_2 = [1, 2, 3]\n",
    "difference = [x for x in lst_1 if not x in lst_2]\n",
    "print(difference)"
   ]
  },
  {
   "cell_type": "markdown",
   "metadata": {},
   "source": [
    "#### Python * Operator\n",
    "\n",
    "Left Operand * Right Operand\n",
    "\n",
    "* Type Specific"
   ]
  },
  {
   "cell_type": "code",
   "execution_count": 249,
   "metadata": {},
   "outputs": [
    {
     "name": "stdout",
     "output_type": "stream",
     "text": [
      "6\n",
      "-2\n",
      "4.4\n",
      "3600.0\n"
     ]
    }
   ],
   "source": [
    "# basic example\n",
    "print(2*3)\n",
    "print(2*-1)\n",
    "# float * int (float is \"infectious\")\n",
    "print(2*2.2)\n",
    "print(2 * 4 * 45 * 10 * 1.0) # will result in float"
   ]
  },
  {
   "cell_type": "code",
   "execution_count": 252,
   "metadata": {},
   "outputs": [
    {
     "name": "stdout",
     "output_type": "stream",
     "text": [
      "boomboomboomboomboomboomboomboomboomboom\n",
      "('Alice', 'Bob', 'Alice', 'Bob')\n"
     ]
    }
   ],
   "source": [
    "# multiplying strings\n",
    "print('boom' * 10)\n",
    "# we cannot multiply a string with another string\n",
    "print(('Alice', 'Bob') * 2) # repeats tuple twice"
   ]
  },
  {
   "cell_type": "code",
   "execution_count": 260,
   "metadata": {},
   "outputs": [
    {
     "name": "stdout",
     "output_type": "stream",
     "text": [
      "8\n"
     ]
    }
   ],
   "source": [
    " # Modifying multiplication operator in objects\n",
    "class Network:\n",
    "    def __init__(self, value):\n",
    "        self.value = value\n",
    "\n",
    "    def __mul__(self, other):\n",
    "        return Network(self.value * other.value)\n",
    "\n",
    "my_network = Network(2)\n",
    "your_network = Network(4)\n",
    "\n",
    "our_network = my_network * your_network #often networks are multiplicative\n",
    "print(our_network.value)"
   ]
  },
  {
   "cell_type": "markdown",
   "metadata": {},
   "source": [
    "#### Python / and // operators\n"
   ]
  },
  {
   "cell_type": "code",
   "execution_count": 263,
   "metadata": {},
   "outputs": [
    {
     "name": "stdout",
     "output_type": "stream",
     "text": [
      "3\n",
      "3.6363636363636362\n"
     ]
    }
   ],
   "source": [
    "# basic example\n",
    "\n",
    "print(40//11) # perform integer division\n",
    "\n",
    "print(40/11) # perform true division (always returns a float value)"
   ]
  },
  {
   "cell_type": "code",
   "execution_count": 281,
   "metadata": {},
   "outputs": [
    {
     "name": "stdout",
     "output_type": "stream",
     "text": [
      "Number_ 2.0\n",
      "Number_ 2\n"
     ]
    }
   ],
   "source": [
    "# override division operator\n",
    "\n",
    "class Number:\n",
    "    def __init__(self, x):\n",
    "        self.x = x\n",
    "\n",
    "    def __truediv__(self, other):\n",
    "        return Number(self.x / other.x)\n",
    "\n",
    "    def __floordiv__(self, other):\n",
    "        return Number(self.x // other.x)\n",
    "\n",
    "    def __str__(self):\n",
    "        return 'Number_ ' + str(self.x)\n",
    "\n",
    "my = Number(42)\n",
    "your = Number(21)\n",
    "\n",
    "print(my/your)\n",
    "\n",
    "print(my//your)"
   ]
  },
  {
   "cell_type": "markdown",
   "metadata": {},
   "source": [
    "##### Python % Operator (Remainder)\n",
    "\n"
   ]
  },
  {
   "cell_type": "code",
   "execution_count": 284,
   "metadata": {},
   "outputs": [
    {
     "name": "stdout",
     "output_type": "stream",
     "text": [
      "0\n",
      "1000\n",
      "2000\n",
      "3000\n",
      "4000\n",
      "5000\n",
      "6000\n",
      "7000\n",
      "8000\n",
      "9000\n"
     ]
    }
   ],
   "source": [
    "for i in range(10**4):\n",
    "    if i%1000 == 0:\n",
    "        print(i)"
   ]
  },
  {
   "cell_type": "code",
   "execution_count": 287,
   "metadata": {},
   "outputs": [
    {
     "name": "stdout",
     "output_type": "stream",
     "text": [
      "1\n",
      "2.0\n",
      "0.0\n"
     ]
    }
   ],
   "source": [
    "print(7%2) # with Integers\n",
    "print(7%2.5) # with Floats\n",
    "print(7.5%2.5)"
   ]
  },
  {
   "cell_type": "code",
   "execution_count": 288,
   "metadata": {},
   "outputs": [
    {
     "name": "stdout",
     "output_type": "stream",
     "text": [
      "-1\n",
      "1\n",
      "-1\n"
     ]
    }
   ],
   "source": [
    "# Python Modulo Negative Numbers\n",
    "# Modulo always has the sign of the divisor\n",
    "print(7%-2)\n",
    "print(-7%2)\n",
    "print(-7%-2)"
   ]
  },
  {
   "cell_type": "markdown",
   "metadata": {},
   "source": [
    "##### Exponents\n",
    "\n",
    "* Four ways to do it"
   ]
  },
  {
   "cell_type": "code",
   "execution_count": 308,
   "metadata": {},
   "outputs": [
    {
     "name": "stdout",
     "output_type": "stream",
     "text": [
      "1764\n",
      "0.125\n",
      "0.125\n",
      "-9\n",
      "9\n",
      "0.1111111111111111\n",
      "9\n",
      "24.190878415700578\n",
      "9.0\n"
     ]
    },
    {
     "data": {
      "text/plain": [
       "9"
      ]
     },
     "execution_count": 308,
     "metadata": {},
     "output_type": "execute_result"
    }
   ],
   "source": [
    "import math # needed for math module pow()\n",
    "import numpy as np\n",
    "\n",
    "\n",
    "# first, negative exponents can be used\n",
    "x = 42\n",
    "n = 2\n",
    "print(x ** n)\n",
    "\n",
    "print(2**-3)\n",
    "print(1 / (2**3))\n",
    "\n",
    "print(-3 ** 2) # negative base\n",
    "\n",
    "# second, using pow()\n",
    "print(pow(3, 2))\n",
    "print(pow(3, -2))\n",
    "print(pow(-3, 2))\n",
    "print(pow(3.0, 2.9))\n",
    "\n",
    "# Third, Math Library \n",
    "print(math.pow(3, 2)) # returns float\n",
    "\n",
    "# Fourth, Numpy Library \n",
    "print(np.power(3, 2)) # returns int, most powerful of the four functions\n",
    "# Has 3 arguments. \n",
    "\n"
   ]
  },
  {
   "cell_type": "markdown",
   "metadata": {},
   "source": [
    "##### Python and Operator "
   ]
  },
  {
   "cell_type": "code",
   "execution_count": 9,
   "metadata": {},
   "outputs": [
    {
     "name": "stdout",
     "output_type": "stream",
     "text": [
      "False\n",
      "False\n",
      "False\n",
      "True\n",
      "0\n",
      "0\n",
      "10\n",
      "hello world\n",
      "hello world\n",
      "[]\n",
      "\n"
     ]
    },
    {
     "data": {
      "text/plain": [
       "False"
      ]
     },
     "execution_count": 9,
     "metadata": {},
     "output_type": "execute_result"
    }
   ],
   "source": [
    "#  General Purpose Overview\n",
    "# Short-Circuiting - if the first value evaluates to True then it simply returns the second operand\n",
    "# if the first value evaluates to False then it simply returns False\n",
    "\n",
    "print(False and False) # False\n",
    "print(False and True) # False\n",
    "print(True and False) # False\n",
    "print(True and True) # True \n",
    "\n",
    "# the and operator can also be used on integer and string values (0 and empty strings and [],{]} are 'falsey')\n",
    "\n",
    "print(1 and 0) # returns 0 \n",
    "print(0 and 1) # returns 0, short circuit\n",
    "print(1 and 10) # returns 10\n",
    "print(1 and \"hello world\") # returns 'hello world'\n",
    "print(True and 'hello world') # returns 'hello world'\n",
    "print([] and [1,2,3]) # returns empty list, short circuit\n",
    "print('' and 'hey world') # returns empty string, short circuit\n",
    "\n",
    "False and print('hello world') # short circuit, returns False\n",
    "True and print('hello world') # prints 'hello world'"
   ]
  },
  {
   "cell_type": "code",
   "execution_count": 10,
   "metadata": {},
   "outputs": [
    {
     "data": {
      "text/plain": [
       "'Hello'"
      ]
     },
     "execution_count": 10,
     "metadata": {},
     "output_type": "execute_result"
    }
   ],
   "source": [
    "class My_Obj:\n",
    "    None\n",
    "\n",
    "My_Obj() and 'Hello' # My_Obj is 'Truthy' even though it's an empty object"
   ]
  },
  {
   "cell_type": "markdown",
   "metadata": {},
   "source": []
  },
  {
   "cell_type": "code",
   "execution_count": 13,
   "metadata": {},
   "outputs": [
    {
     "name": "stdout",
     "output_type": "stream",
     "text": [
      "16\n",
      "0\n",
      "15\n"
     ]
    }
   ],
   "source": [
    "# Python bitwise & operator\n",
    "\n",
    "print(32 and 16) # returns 16\n",
    "print(32 & 16) # returns 0 (0 1 0 0 0 0)\n",
    "print(31 & 15) # returns 15 ( 0 1 1 1 1)"
   ]
  },
  {
   "cell_type": "code",
   "execution_count": 12,
   "metadata": {},
   "outputs": [
    {
     "data": {
      "text/plain": [
       "0"
      ]
     },
     "execution_count": 12,
     "metadata": {},
     "output_type": "execute_result"
    }
   ],
   "source": []
  },
  {
   "cell_type": "code",
   "execution_count": null,
   "metadata": {},
   "outputs": [],
   "source": []
  }
 ],
 "metadata": {
  "interpreter": {
   "hash": "aee8b7b246df8f9039afb4144a1f6fd8d2ca17a180786b69acc140d282b71a49"
  },
  "kernelspec": {
   "display_name": "Python 3.9.9 64-bit",
   "language": "python",
   "name": "python3"
  },
  "language_info": {
   "codemirror_mode": {
    "name": "ipython",
    "version": 3
   },
   "file_extension": ".py",
   "mimetype": "text/x-python",
   "name": "python",
   "nbconvert_exporter": "python",
   "pygments_lexer": "ipython3",
   "version": "3.9.9"
  },
  "orig_nbformat": 4
 },
 "nbformat": 4,
 "nbformat_minor": 2
}
