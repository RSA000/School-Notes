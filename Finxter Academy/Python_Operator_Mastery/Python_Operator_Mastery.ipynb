{
 "cells": [
  {
   "cell_type": "markdown",
   "metadata": {},
   "source": [
    "##### Python Greater Than Operator\n",
    "\n",
    "topics: \n",
    "\n",
    "* Create a custom > \n",
    "* Apply > operator to lists\n",
    "\n",
    "The > operator has two operands:\n",
    "\n",
    "```python\n",
    "\n",
    "3 > 2\n",
    "```\n",
    "\n",
    "syntax: left > right\n",
    "\n",
    "Will return True if left operand is greater than right.\n",
    "\n",
    "##### Applying > to sequences such as lists:"
   ]
  },
  {
   "cell_type": "code",
   "execution_count": 23,
   "metadata": {},
   "outputs": [
    {
     "name": "stdout",
     "output_type": "stream",
     "text": [
      "False\n",
      "True\n",
      "True\n",
      "False\n",
      "True\n",
      "True\n",
      "True\n",
      "False\n",
      "False\n"
     ]
    }
   ],
   "source": [
    "print([1] > [2]) # Will return False\n",
    "\n",
    "print([1, 2] > [1, 1]) # will return True 2nd element is the 'tie breaker'\n",
    "\n",
    "print([1, 2, 2, 2, 3] > [1, 2, 2, 2, 2]) # will return true\n",
    "\n",
    "print([1, 2] > [1, 2, 1]) # lists with different lengths, will return false\n",
    "\n",
    "print([10] > [1, 1, 1, 1, 1, 1, 1, 1, 1, 1, 1]) # will return True\n",
    "\n",
    "print((10,) > (2, 2, 2, 2)) # Will return True\n",
    "\n",
    "print((10,) > (2, 1000000)) # will return True\n",
    "\n",
    "print('abc' > 'cba') # will return False\n",
    "\n",
    "print('a' > 'b') # will return False\n"
   ]
  },
  {
   "cell_type": "code",
   "execution_count": 28,
   "metadata": {},
   "outputs": [
    {
     "name": "stdout",
     "output_type": "stream",
     "text": [
      "False\n",
      "True\n"
     ]
    }
   ],
   "source": [
    "# Creating custom > operator\n",
    "\n",
    "class Person:\n",
    "    def __init__(self, age):\n",
    "        self.age = age\n",
    "    \n",
    "    def __gt__(self, other):\n",
    "        return self.age > other.age\n",
    "\n",
    "\n",
    "    \n",
    "alice = Person(10)\n",
    "bob = Person(12)\n",
    "\n",
    "print(alice > bob) # = alice.__gt__(bob), result will be False\n",
    "\n",
    "print(bob > alice) # should return True"
   ]
  },
  {
   "cell_type": "markdown",
   "metadata": {},
   "source": [
    "##### Python Less Than Operator. \n",
    "\n",
    "* Pretty much the same as the > operator\n",
    "\n",
    "* Has two operands \n",
    "\n",
    "``` python\n",
    "\n",
    "2 < 3\n",
    "\n",
    "```\n",
    "\n",
    "syntax: left < right"
   ]
  },
  {
   "cell_type": "code",
   "execution_count": 37,
   "metadata": {},
   "outputs": [
    {
     "name": "stdout",
     "output_type": "stream",
     "text": [
      "False\n",
      "False\n",
      "True\n",
      "True\n",
      "True\n",
      "97\n",
      "98\n"
     ]
    }
   ],
   "source": [
    "print(3 < 2) # returns False\n",
    "print([1, 2] < [0, 1]) # returns False, example of short circuiting\n",
    "print([1, 2] < [1,3]) # returns True\n",
    "print([1, 2]<[1, 2, -10000]) # returns True\n",
    "print('aabb' < 'bbaa') # returns True\n",
    "print(ord('a')) # Unicode number in decimal form\n",
    "print(ord('b')) # b ordinal number is larger than a orginal number 97<98"
   ]
  },
  {
   "cell_type": "code",
   "execution_count": 42,
   "metadata": {},
   "outputs": [
    {
     "name": "stdout",
     "output_type": "stream",
     "text": [
      "True\n",
      "False\n",
      "True\n"
     ]
    }
   ],
   "source": [
    "# creating custom < operator\n",
    "class Person:\n",
    "    def __init__(self, name, age):\n",
    "        self.name = name\n",
    "        self.age = age\n",
    "\n",
    "    def __lt__(self, other):\n",
    "        return self.age < other.age\n",
    "\n",
    "\n",
    "alice = Person('alice', 18)\n",
    "bob = Person('bob', 21)\n",
    "carl = Person('carl', 24)\n",
    "print(alice < bob) # alice.__lt__(bob)\n",
    "print(bob < alice) # bob.__lt__(alice)\n",
    "print(alice < bob < carl) # code below does the same thing essentially\n",
    "print((alice < bob) and (bob < carl))"
   ]
  },
  {
   "cell_type": "markdown",
   "metadata": {},
   "source": [
    "#### Python == To Operator (Equal to)\n",
    "\n",
    "Left == Right\n",
    "\n",
    "Returns boolean value depending on whether left and right operands are equal to each other \n",
    "\n",
    "```python\n",
    "\n",
    "x = 42\n",
    "y = 21 + 21\n",
    "\n",
    "x == y\n",
    "\n",
    "``` \n",
    "\n",
    "output: True\n",
    "\n",
    "```python \n",
    "\n",
    "'hello' == 'he' + 'llo'\n",
    "```\n",
    "\n",
    "output = True\n",
    "\n",
    "``` python \n",
    "\n",
    "[1, 2] == [1, 2, 3]\n",
    "\n",
    "# False\n",
    "\n",
    "[1] == [1]\n",
    "\n",
    "# True\n",
    "\n",
    "[1] is [1]\n",
    "\n",
    "# False\n",
    "\n",
    "```\n",
    "\n"
   ]
  },
  {
   "cell_type": "code",
   "execution_count": 49,
   "metadata": {},
   "outputs": [
    {
     "name": "stdout",
     "output_type": "stream",
     "text": [
      "False\n",
      "True\n"
     ]
    }
   ],
   "source": [
    "class Person:\n",
    "    def __init__(self, age):\n",
    "        self.age = age\n",
    "\n",
    "    # Overiding the magic method __eq__\n",
    "    def __eq__(self, other):\n",
    "        return self.age == other.age\n",
    "\n",
    "alice = Person(18)\n",
    "bob = Person(19)\n",
    "carl = Person(18)\n",
    "\n",
    "print(alice == bob) # returns False\n",
    "\n",
    "print(alice == carl) # returns True"
   ]
  },
  {
   "cell_type": "code",
   "execution_count": 51,
   "metadata": {},
   "outputs": [
    {
     "data": {
      "text/plain": [
       "True"
      ]
     },
     "execution_count": 51,
     "metadata": {},
     "output_type": "execute_result"
    }
   ],
   "source": [
    "x = 43 - 1\n",
    "y = 42\n",
    "z = 21 + 21\n",
    "\n",
    "print(x == y == z) # example of chaining. Alternative to and\n",
    "\n",
    "print((x == y) and (y == z)) # same as above"
   ]
  },
  {
   "cell_type": "code",
   "execution_count": 52,
   "metadata": {},
   "outputs": [
    {
     "data": {
      "text/plain": [
       "True"
      ]
     },
     "execution_count": 52,
     "metadata": {},
     "output_type": "execute_result"
    }
   ],
   "source": [
    "x = 42\n",
    "a = 21 + 21\n",
    "b = 43 * 2\n",
    "x in {a, b}"
   ]
  },
  {
   "cell_type": "code",
   "execution_count": 54,
   "metadata": {},
   "outputs": [
    {
     "data": {
      "text/plain": [
       "True"
      ]
     },
     "execution_count": 54,
     "metadata": {},
     "output_type": "execute_result"
    }
   ],
   "source": [
    "lst = ['alice', 'bob', 'carl' , 42, None, 21]\n",
    "query = 'carl'\n",
    "\n",
    "# # 'clunky' way of checking if value is inside list\n",
    "# for x in lst:\n",
    "#     if x == query:\n",
    "#         print('Yay')\n",
    "\n",
    "# better way\n",
    "query in set(lst)\n",
    "\n",
    "# also \n",
    "query in lst"
   ]
  },
  {
   "cell_type": "code",
   "execution_count": 58,
   "metadata": {},
   "outputs": [
    {
     "data": {
      "text/plain": [
       "True"
      ]
     },
     "execution_count": 58,
     "metadata": {},
     "output_type": "execute_result"
    }
   ],
   "source": [
    "import math\n",
    "\n",
    "x = float('nan')\n",
    "x\n",
    "x + 2\n",
    "\n",
    "math.isnan(x)"
   ]
  },
  {
   "cell_type": "code",
   "execution_count": null,
   "metadata": {},
   "outputs": [],
   "source": []
  }
 ],
 "metadata": {
  "interpreter": {
   "hash": "aee8b7b246df8f9039afb4144a1f6fd8d2ca17a180786b69acc140d282b71a49"
  },
  "kernelspec": {
   "display_name": "Python 3.9.9 64-bit",
   "language": "python",
   "name": "python3"
  },
  "language_info": {
   "codemirror_mode": {
    "name": "ipython",
    "version": 3
   },
   "file_extension": ".py",
   "mimetype": "text/x-python",
   "name": "python",
   "nbconvert_exporter": "python",
   "pygments_lexer": "ipython3",
   "version": "3.9.9"
  },
  "orig_nbformat": 4
 },
 "nbformat": 4,
 "nbformat_minor": 2
}
