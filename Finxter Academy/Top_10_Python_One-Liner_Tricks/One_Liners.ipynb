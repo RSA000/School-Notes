{
 "cells": [
  {
   "cell_type": "markdown",
   "metadata": {},
   "source": [
    "#### Table Of Contents\n",
    "* How to read and write one-liners\n",
    "* Learn how to systematically unpack and understand any line of Python code, and write powerfull and compressed Python\n",
    "* How to leverage data structures to solve real-world problems, like using Boolean indexing to find cities with above-average pollution"
   ]
  },
  {
   "cell_type": "markdown",
   "metadata": {},
   "source": [
    "#### Intro\n",
    "\n",
    "The intro goes over the reasoning for being able to understand one-liners and their usefullness.\n",
    "While it's often said that code should be readable above everything else, there is still utility in Python one-liners and ones ability to comprehend them as they appear on many professional projects and become easier to read as one practices with them."
   ]
  },
  {
   "cell_type": "code",
   "execution_count": 7,
   "metadata": {},
   "outputs": [
    {
     "data": {
      "text/plain": [
       "[2, 3, 4, 5, 5, 8, 10, 19]"
      ]
     },
     "execution_count": 7,
     "metadata": {},
     "output_type": "execute_result"
    }
   ],
   "source": [
    "# Complicated one-liner (quicksort)\n",
    "q = lambda l: q([x for x in l[1:] if x <= l[0]]) + [l[0]] + q([x for x in l if x > l[0]]) if l else []\n",
    "q([3,5, 4, 5, 2, 8, 19, 10 ])"
   ]
  },
  {
   "cell_type": "markdown",
   "metadata": {},
   "source": [
    "##### List Comprehension\n",
    "\n",
    "\"A list comprehension is a syntactic construct available in some programming languages for creating a list based on existing lists. It follows the form of the mathematical set-builder notation (set comprehension). - Wikipedia\n",
    "\n",
    "\n",
    "```python\n",
    "[expression, context]\n",
    "[something for thing in things]\n",
    "[x for x in range(10)]\n",
    "# output: [0, 1, 2, 3, 4, 5, 6, 7, 8, 9]\n",
    "[x + x for x in range(10)]\n",
    "# output: [0, 2, 4, 6, 8, 10, 12, 14, 16, 18]\n",
    "```"
   ]
  },
  {
   "cell_type": "code",
   "execution_count": 29,
   "metadata": {},
   "outputs": [
    {
     "name": "stdout",
     "output_type": "stream",
     "text": [
      "[('Alice', 100000), ('Carol', 122908)]\n",
      "[('Alice', 100000), ('Carol', 122908)]\n"
     ]
    }
   ],
   "source": [
    "# Basic example of a dictionary containing employee names and salaries\n",
    "employees = {'Alice': 100000,\n",
    "            'Bob': 99817,\n",
    "            'Carol': 122908,\n",
    "            'Frank':88123,\n",
    "            'Eve': 93121}\n",
    "\n",
    "# Finding all top earners\n",
    "# complicated first\n",
    "top_earners = []\n",
    "for key, val in employees.items():\n",
    "    if val >= 100000:\n",
    "        top_earners.append((key, val))\n",
    "print(top_earners)\n",
    "\n",
    "# List comprehension way\n",
    "top_earners = [(k, v) for k, v in employees.items() if v >= 100000]\n",
    "print(top_earners)\n"
   ]
  },
  {
   "cell_type": "code",
   "execution_count": null,
   "metadata": {},
   "outputs": [],
   "source": []
  }
 ],
 "metadata": {
  "kernelspec": {
   "display_name": "Python 3.9.9 64-bit",
   "language": "python",
   "name": "python3"
  },
  "language_info": {
   "codemirror_mode": {
    "name": "ipython",
    "version": 3
   },
   "file_extension": ".py",
   "mimetype": "text/x-python",
   "name": "python",
   "nbconvert_exporter": "python",
   "pygments_lexer": "ipython3",
   "version": "3.9.10"
  },
  "orig_nbformat": 4,
  "vscode": {
   "interpreter": {
    "hash": "aee8b7b246df8f9039afb4144a1f6fd8d2ca17a180786b69acc140d282b71a49"
   }
  }
 },
 "nbformat": 4,
 "nbformat_minor": 2
}
