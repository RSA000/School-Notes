{
 "cells": [
  {
   "cell_type": "markdown",
   "metadata": {},
   "source": [
    "#### Table Of Contents\n",
    "* How to read and write one-liners\n",
    "* Learn how to systematically unpack and understand any line of Python code, and write powerfull and compressed Python\n",
    "* How to leverage data structures to solve real-world problems, like using Boolean indexing to find cities with above-average pollution"
   ]
  },
  {
   "cell_type": "markdown",
   "metadata": {},
   "source": [
    "#### Intro\n",
    "\n",
    "The intro goes over the reasoning for being able to understand one-liners and their usefullness.\n",
    "While it's often said that code should be readable above everything else, there is still utility in Python one-liners and ones ability to comprehend them as they appear on many professional projects and become easier to read as one practices with them."
   ]
  },
  {
   "cell_type": "code",
   "execution_count": 7,
   "metadata": {},
   "outputs": [
    {
     "data": {
      "text/plain": [
       "[2, 3, 4, 5, 5, 8, 10, 19]"
      ]
     },
     "execution_count": 7,
     "metadata": {},
     "output_type": "execute_result"
    }
   ],
   "source": [
    "# Complicated one-liner (quicksort)\n",
    "q = lambda l: q([x for x in l[1:] if x <= l[0]]) + [l[0]] + q([x for x in l if x > l[0]]) if l else []\n",
    "q([3,5, 4, 5, 2, 8, 19, 10 ])"
   ]
  },
  {
   "cell_type": "markdown",
   "metadata": {},
   "source": [
    "##### List Comprehension\n",
    "\n",
    "\"A list comprehension is a syntactic construct available in some programming languages for creating a list based on existing lists. It follows the form of the mathematical set-builder notation (set comprehension). - Wikipedia\n",
    "\n",
    "\n",
    "```python\n",
    "[expression, context]\n",
    "[something for thing in things]\n",
    "[x for x in range(10)]\n",
    "# output: [0, 1, 2, 3, 4, 5, 6, 7, 8, 9]\n",
    "[x + x for x in range(10)]\n",
    "# output: [0, 2, 4, 6, 8, 10, 12, 14, 16, 18]\n",
    "```"
   ]
  },
  {
   "cell_type": "code",
   "execution_count": 29,
   "metadata": {},
   "outputs": [
    {
     "name": "stdout",
     "output_type": "stream",
     "text": [
      "[('Alice', 100000), ('Carol', 122908)]\n",
      "[('Alice', 100000), ('Carol', 122908)]\n"
     ]
    }
   ],
   "source": [
    "# Basic example of a dictionary containing employee names and salaries\n",
    "employees = {'Alice': 100000,\n",
    "            'Bob': 99817,\n",
    "            'Carol': 122908,\n",
    "            'Frank':88123,\n",
    "            'Eve': 93121}\n",
    "\n",
    "# Finding all top earners\n",
    "# complicated first\n",
    "top_earners = []\n",
    "for key, val in employees.items():\n",
    "    if val >= 100000:\n",
    "        top_earners.append((key, val))\n",
    "print(top_earners)\n",
    "\n",
    "# List comprehension way\n",
    "top_earners = [(k, v) for k, v in employees.items() if v >= 100000]\n",
    "print(top_earners)\n"
   ]
  },
  {
   "cell_type": "markdown",
   "metadata": {},
   "source": [
    "##### Read File and Strip() Lines"
   ]
  },
  {
   "cell_type": "code",
   "execution_count": 41,
   "metadata": {},
   "outputs": [],
   "source": [
    "# Basic way of reading a file:\n",
    "filename = 'One_Liners.ipynb'\n",
    "f = open(filename)\n",
    "lines = []\n",
    "for line in f:\n",
    "    lines.append(line.strip())\n",
    "\n",
    "# One-Liner way\n",
    "# print([expression, context])\n",
    "lines = [line.strip() for line in open(\"One_Liners.ipynb\")]"
   ]
  },
  {
   "cell_type": "markdown",
   "metadata": {},
   "source": [
    "##### Lambda, Map, and Ternary Operator"
   ]
  },
  {
   "cell_type": "code",
   "execution_count": 54,
   "metadata": {},
   "outputs": [
    {
     "name": "stdout",
     "output_type": "stream",
     "text": [
      "[(True, 'lambdad functions are anonymous functions.'), (True, 'anonymous functions dont have a name'), (False, 'functions are objects in Python')]\n"
     ]
    }
   ],
   "source": [
    "# Objective: mark all strings that contains anonymous with a Boolean value (True or False)\n",
    "\n",
    "txt = ['lambdad functions are anonymous functions.',\n",
    "        'anonymous functions dont have a name',\n",
    "        'functions are objects in Python']\n",
    "# ouput = [(True, 'lambda functions ...'),\n",
    "# (True, 'anony ...'),\n",
    "# (False, 'functions...')]\n",
    "\n",
    "\n",
    "# The map function takes a function and iterables\n",
    "# map(function, iterable)\n",
    "# The map function applies the function to each element in the iterable\n",
    "mark = map(lambda s: (True, s) if 'anonymous' in s else (False, s), txt) # A ternary operator\n",
    "print(list(mark)) # map returns an iterable so we must convert it to a list first"
   ]
  },
  {
   "cell_type": "markdown",
   "metadata": {},
   "source": [
    "##### How to Create Your Own Little Search Engine in One Line\n",
    "finding a text query in a multiline string"
   ]
  },
  {
   "cell_type": "code",
   "execution_count": 61,
   "metadata": {},
   "outputs": [
    {
     "name": "stdout",
     "output_type": "stream",
     "text": [
      "a fully-managed MySQL PostgresSQL-co\n"
     ]
    }
   ],
   "source": [
    "letters_amazon = '''\n",
    "We spent several years building our own database engine, Amazon Aurora, a fully-managed MySQL PostgresSQL-compatible\n",
    "service with the same or better durability and availability as the commercial engines, but at one-tenth\n",
    "of the cost. We were not surprised when this worked\n",
    "'''\n",
    "\n",
    "# create a one liner function\n",
    "# to find first occurence of desired word\n",
    "# lambda arguments: return_value\n",
    "find = lambda x, q: x[x.find(q):(x.find(q) + len(q))] if q in x else -1 \n",
    "# The above will return the searched word if found or return -1 otherwise\n",
    "\n",
    "# This just returns 18 spaces to the left and right of the found word\n",
    "find = lambda x, q: x[x.find(q)-18:x.find(q)+18 ] if q in x else -1\n",
    "\n",
    "print(find(letters_amazon, 'SQL'))"
   ]
  },
  {
   "cell_type": "markdown",
   "metadata": {},
   "source": [
    "##### Sampling a 2D Python List to Speed Up Machine Learning"
   ]
  },
  {
   "cell_type": "code",
   "execution_count": 66,
   "metadata": {},
   "outputs": [
    {
     "data": {
      "text/plain": [
       "[[9.9, 9.4, 9.7], [9.5, 9.4, 9.2], [8.4, 7.9, 8.0], [7.1, 4.8, 4.7]]"
      ]
     },
     "execution_count": 66,
     "metadata": {},
     "output_type": "execute_result"
    }
   ],
   "source": [
    "# Data (daily stock prices ($))\n",
    "price = [[9.9, 9.8 , 9.4, 9.5, 9.7],\n",
    "        [9.5, 9.4, 9.4, 9.3, 9.2, 9.1],\n",
    "        [8.4, 7.9, 7.9, 8.1, 8.0, 8.0],\n",
    "        [7.1, 5.9, 4.8, 4.8, 4.7, 3.9]]\n",
    "\n",
    "# Idea is to sample every second value from each list\n",
    "# sample = [expression, context]\n",
    "sample = [item[::2] for item in price]\n",
    "sample \n"
   ]
  },
  {
   "cell_type": "markdown",
   "metadata": {},
   "source": []
  }
 ],
 "metadata": {
  "kernelspec": {
   "display_name": "Python 3.9.9 64-bit",
   "language": "python",
   "name": "python3"
  },
  "language_info": {
   "codemirror_mode": {
    "name": "ipython",
    "version": 3
   },
   "file_extension": ".py",
   "mimetype": "text/x-python",
   "name": "python",
   "nbconvert_exporter": "python",
   "pygments_lexer": "ipython3",
   "version": "3.9.10"
  },
  "orig_nbformat": 4,
  "vscode": {
   "interpreter": {
    "hash": "aee8b7b246df8f9039afb4144a1f6fd8d2ca17a180786b69acc140d282b71a49"
   }
  }
 },
 "nbformat": 4,
 "nbformat_minor": 2
}
