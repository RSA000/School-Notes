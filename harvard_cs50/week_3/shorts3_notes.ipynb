{
 "cells": [
  {
   "cell_type": "markdown",
   "metadata": {},
   "source": [
    "### Shorts \n",
    "\n",
    "* Linear search: Going through each element in an array and checking if it is equal to the element we are looking for.\n",
    "\n",
    "    * Worst case: The element we are searching for is the last in the array\n",
    "    * Best case: The element is the first in the array. \n",
    "\n",
    "* Binary Search: Unlike linear search, it requires a special condition, the array has to be sorted.\n",
    "\n",
    "    * Divide and conquer, reducing the search area by half each time. \n",
    "    * Worst-case scenario: We have to divide a list of n elements in half repeatedly to find the target element until the indexes cross over. Either because the element is found at the last division or doesnt exist. log n\n",
    "    * Best-case scenario: The target element is at the midpoint of the full array.  Omega(1)\n"
   ]
  },
  {
   "cell_type": "markdown",
   "metadata": {},
   "source": [
    "Bubble Sort - Moving lower valued items to the left and higher valued items to the right.\n",
    "\n",
    "pseudo\n",
    "* Set swap counter to a non-zero value\n",
    "* Repeat until the swap counter is 0\n",
    "    * Reset swap counter to 0\n",
    "    * Look at each adjacent pair\n",
    "        * If two adjacent elements are not in order, swap them and add one to the swap counter.\n",
    "\n",
    "* Worst-case scenario: The array is in reverse order. O(n^2)\n",
    "* Best-case array is already sorted. Omega(n)\n",
    "\n",
    "\n",
    "Selection Sort - Find the smallest element in the array and add it to the end of the sorted list.\n",
    "\n",
    "pseudo\n",
    "* Repeat until no unsorted elements remain:\n",
    "    * Search the unsorted part of the data to find the smallest value\n",
    "    * Swap the smallest found value in with the first element of the unsorted part\n",
    "    \n",
    "* Worst-Case: We have to iterate over each of the n elements of the array and repeat it n times. O(n^2)\n",
    "* Best-case: list is already sorted Omega(n^2)"
   ]
  },
  {
   "cell_type": "markdown",
   "metadata": {},
   "source": []
  }
 ],
 "metadata": {
  "kernelspec": {
   "display_name": "Python 3.9.10 64-bit",
   "language": "python",
   "name": "python3"
  },
  "language_info": {
   "name": "python",
   "version": "3.9.10"
  },
  "orig_nbformat": 4,
  "vscode": {
   "interpreter": {
    "hash": "aee8b7b246df8f9039afb4144a1f6fd8d2ca17a180786b69acc140d282b71a49"
   }
  }
 },
 "nbformat": 4,
 "nbformat_minor": 2
}
