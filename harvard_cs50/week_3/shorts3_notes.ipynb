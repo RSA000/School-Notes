{
 "cells": [
  {
   "cell_type": "markdown",
   "metadata": {},
   "source": [
    "### Shorts \n",
    "\n",
    "* Linear search: Going through each element in an array and checking if it is equal to the element we are looking for.\n",
    "\n",
    "    * Worst case: The element we are searching for is the last in the array\n",
    "    * Best case: The element is the first in the array. \n",
    "\n",
    "* Binary Search: Unlike linear search, it requires a special condition, the array has to be sorted.\n",
    "\n",
    "    * Divide and conquer, reducing the search area by half each time. \n",
    "    * Worst-case scenario: We have to divide a list of n elements in half repeatedly to find the target element until the indexes cross over. Either because the element is found at the last division or doesnt exist. log n\n",
    "    * Best-case scenario: The target element is at the midpoint of the full array.  Omega(1)\n"
   ]
  },
  {
   "cell_type": "markdown",
   "metadata": {},
   "source": [
    "Bubble Sort - Moving lower valued items to the left and higher valued items to the right.\n",
    "\n",
    "pseudo\n",
    "* Set swap counter to a non-zero value\n",
    "* Repeat until the swap counter is 0\n",
    "    * Reset swap counter to 0\n",
    "    * Look at each adjacent pair\n",
    "        * If two adjacent elements are not in order, swap them and add one to the swap counter.\n",
    "\n",
    "* Worst-case scenario: The array is in reverse order. O(n^2)\n",
    "* Best-case array is already sorted. Omega(n)\n",
    "\n",
    "\n",
    "Selection Sort - Find the smallest element in the array and add it to the end of the sorted list.\n",
    "\n",
    "pseudo\n",
    "* Repeat until no unsorted elements remain:\n",
    "    * Search the unsorted part of the data to find the smallest value\n",
    "    * Swap the smallest found value in with the first element of the unsorted part\n",
    "    \n",
    "* Worst-Case: We have to iterate over each of the n elements of the array and repeat it n times. O(n^2)\n",
    "* Best-case: list is already sorted Omega(n^2)"
   ]
  },
  {
   "cell_type": "markdown",
   "metadata": {},
   "source": [
    "#### Recursion\n",
    "\n",
    "Recursion is when a function calls itself.\n",
    "\n",
    "* The factorial funtion (n!) is defined over all positive integers\n",
    "\n",
    "* n! equals all of the positive integers less than or equal to n, multiplied together\n",
    "\n",
    "* Thinking in terms of programming, we'll define the mathematical function n! as fact(n)\n",
    "\n",
    "* Every recursive function has two cases that could apply:\n",
    "    * The vase case, which when triggered will terminate the recursive process\n",
    "    * The recursive case, which is where the recution occurs. \n",
    "\n",
    "\n",
    "```c\n",
    "int fact(int n)\n",
    "{\n",
    "    if (n == 1)\n",
    "        return 1;\n",
    "    // recursive case\n",
    "    else\n",
    "        return n * factorial(n-1)\n",
    "}\n",
    "\n",
    "```\n",
    "\n",
    "* Recursive functions can sometimes replace loops."
   ]
  },
  {
   "cell_type": "markdown",
   "metadata": {},
   "source": [
    "### Merge Sort\n",
    "\n",
    "In merge sort, the goal is to sort smaller arrays and then combine those together.\n",
    "Merge sort utilizes recursion.\n",
    "\n",
    "pseudocode:\n",
    "* Sort the left half of the array (assuming n > 1)\n",
    "* Sort the right half of the array (assuming n > 1)\n",
    "* Merge the two halves together\n",
    "\n",
    "* Worst-case: We have to split n elements up and then recombine the, doubling the sorted subarrays as we build them up.\n",
    "\n",
    "* Best-case: The array is already sorted. We still have to split and recombine them back together though."
   ]
  }
 ],
 "metadata": {
  "kernelspec": {
   "display_name": "Python 3.9.10 64-bit",
   "language": "python",
   "name": "python3"
  },
  "language_info": {
   "name": "python",
   "version": "3.9.10"
  },
  "orig_nbformat": 4,
  "vscode": {
   "interpreter": {
    "hash": "aee8b7b246df8f9039afb4144a1f6fd8d2ca17a180786b69acc140d282b71a49"
   }
  }
 },
 "nbformat": 4,
 "nbformat_minor": 2
}
