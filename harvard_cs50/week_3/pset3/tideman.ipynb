{
 "cells": [
  {
   "cell_type": "code",
   "execution_count": 1003,
   "metadata": {},
   "outputs": [],
   "source": [
    "# cyclical\n",
    "candidates = [\"Alice\", \"Bob\", \"Charlie\", \"Dave\", \"Edgar\", \"Fred\"]\n",
    "pairs = [[0,1],[1,5],[2,0],[3,2], [4,0], [5,3]]\n",
    "locked = [[[False],[False],[False],[False],[False],[False]],[[False],[False],[False],[False],[False],[False]],[[False],[False],[False],[False],[False],[False]],[[False],[False],[False],[False],[False],[False]],[[False],[False],[False],[False],[False],[False]],[[False],[False],[False],[False],[False],[False]],]"
   ]
  },
  {
   "cell_type": "code",
   "execution_count": 1074,
   "metadata": {},
   "outputs": [],
   "source": [
    "\n",
    "def path():\n",
    "    print(\"start:\", candidates[pairs[start][0]])\n",
    "    next_step = pairs[start][1]\n",
    "    print(\"next candidate: \", candidates[next_step])\n",
    "    if pairs[next_step][0] == start_path:\n",
    "        return True\n",
    "    for i in range(len(pair_slice)):\n",
    "        if pairs[i][0] == next_step:\n",
    "            print(\"next index\", pairs[i])\n",
    "            return path(i, pair_slice, dept + 1)\n",
    "    return False\n"
   ]
  },
  {
   "cell_type": "code",
   "execution_count": 1396,
   "metadata": {},
   "outputs": [],
   "source": [
    "candidates = [\"Alice\", \"Bob\", \"Charlie\", 'Dave']\n",
    "pairs = [[0,1], [2,0], [1,2], [3, 2]]\n",
    "locked = [[False, False, False, False],[False, False, False, False],[False, False, False, False],[False, False, False, False]]"
   ]
  },
  {
   "cell_type": "code",
   "execution_count": 1397,
   "metadata": {},
   "outputs": [],
   "source": [
    "def path(winner, loser):\n",
    "    print(candidates[winner], 'beats', candidates[loser])\n",
    "    if loser == winner:\n",
    "        return True\n",
    "    else:\n",
    "        for i in range(len(candidates)):\n",
    "            if locked[loser][i] == True:\n",
    "                if path(winner, i) == True:\n",
    "                    return True\n",
    "    return False\n",
    "            "
   ]
  },
  {
   "cell_type": "code",
   "execution_count": 1398,
   "metadata": {},
   "outputs": [
    {
     "name": "stdout",
     "output_type": "stream",
     "text": [
      "Alice beats Bob\n",
      "Charlie beats Alice\n",
      "Charlie beats Bob\n",
      "Bob beats Charlie\n",
      "Bob beats Alice\n",
      "Bob beats Bob\n",
      "Dave beats Charlie\n",
      "Dave beats Alice\n",
      "Dave beats Bob\n"
     ]
    }
   ],
   "source": [
    "for i in range(len(candidates)):\n",
    "    if path(pairs[i][0], pairs[i][1]) == False:\n",
    "        locked[pairs[i][0]][pairs[i][1]] = True"
   ]
  },
  {
   "cell_type": "code",
   "execution_count": 1399,
   "metadata": {},
   "outputs": [
    {
     "data": {
      "text/plain": [
       "False"
      ]
     },
     "execution_count": 1399,
     "metadata": {},
     "output_type": "execute_result"
    }
   ],
   "source": [
    "locked[3][3]"
   ]
  },
  {
   "cell_type": "code",
   "execution_count": 1400,
   "metadata": {},
   "outputs": [
    {
     "data": {
      "text/plain": [
       "[[False, True, False, False],\n",
       " [False, False, False, False],\n",
       " [True, False, False, False],\n",
       " [False, False, True, False]]"
      ]
     },
     "execution_count": 1400,
     "metadata": {},
     "output_type": "execute_result"
    }
   ],
   "source": [
    "locked"
   ]
  },
  {
   "cell_type": "code",
   "execution_count": 1237,
   "metadata": {},
   "outputs": [
    {
     "data": {
      "text/plain": [
       "'Alice'"
      ]
     },
     "execution_count": 1237,
     "metadata": {},
     "output_type": "execute_result"
    }
   ],
   "source": [
    "candidates[pairs[0][0]]"
   ]
  },
  {
   "cell_type": "code",
   "execution_count": null,
   "metadata": {},
   "outputs": [],
   "source": []
  }
 ],
 "metadata": {
  "kernelspec": {
   "display_name": "Python 3.9.10 64-bit",
   "language": "python",
   "name": "python3"
  },
  "language_info": {
   "codemirror_mode": {
    "name": "ipython",
    "version": 3
   },
   "file_extension": ".py",
   "mimetype": "text/x-python",
   "name": "python",
   "nbconvert_exporter": "python",
   "pygments_lexer": "ipython3",
   "version": "3.9.10"
  },
  "orig_nbformat": 4,
  "vscode": {
   "interpreter": {
    "hash": "aee8b7b246df8f9039afb4144a1f6fd8d2ca17a180786b69acc140d282b71a49"
   }
  }
 },
 "nbformat": 4,
 "nbformat_minor": 2
}
