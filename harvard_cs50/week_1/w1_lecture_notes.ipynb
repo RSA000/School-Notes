{
 "cells": [
  {
   "cell_type": "markdown",
   "metadata": {},
   "source": [
    "## C\n",
    "\n",
    "* Functions\n",
    "    * arguments, return values\n",
    "* conditionals\n",
    "* Boolean expressions\n",
    "* loops\n",
    "* variables\n",
    "\n",
    "##### Things to focus on:\n",
    "* Correctness:\n",
    "    Code needs to be correct and achieve the correct thing you want it to do\n",
    "* Design:\n",
    "    Code should be well designed. Things like DRY, breaking up code in to pieces/libraries, making code easy to interpret by other people who may view your code. \n",
    "* Style:\n",
    "    Code style is important \n",
    "\n",
    "###### Basic example of C code:\n",
    "```c\n",
    "#include <stdio.h>\n",
    "\n",
    "int main(void)\n",
    "{\n",
    "    printf(\"hello, world\\n\");\n",
    "}\n",
    "```\n",
    "\n",
    "You could techniqually write code in something like Google Docs or Word but that's not really common. You want to write your code in an IDE (Integrated Development Environment) or Text Editor such as Visual Studio Code or Jupyter Lab\n",
    "\n",
    "But how would you run the above code? It's still not machine language. This above is currently known as source code. In order to change it to 0's and 1's or machine code/langauge. \n",
    "\n",
    "In order to convert our C into machine langauge we need some kind of algorithm to do so. These are called compilers. So in order to run our source code, we need to compile it first into machine language"
   ]
  },
  {
   "cell_type": "markdown",
   "metadata": {},
   "source": [
    "## Terminal\n",
    "\n",
    "Terminals are an older way to interact with your computer (also called Command Line Interfaces sometimes). You can type in commands to command your computer to do something.\n",
    "\n",
    "##### Some common terminal commands:\n",
    "* pwd - shows path to current directory\n",
    "* cd - change directory\n",
    "* mkdir - make directory\n",
    "* touch - make file\n",
    "* ls - list files and directories\n",
    "* head - show the first bit of a file\n",
    "* tail - see last bit of a file\n",
    "* more - see file\n",
    "* less - see file (but with some extra features)\n",
    "* cd ../ - navigate to parent directory\n",
    "* cd . - navigate current directory\n",
    "* mv - move file to another directory or even change file \n",
    "* rm - remove file\n",
    "* rm -r remove recursively, used for directories often\n",
    "* grep - search for something within a file\n",
    "* gcc - a compiler tool\n",
    "* make - a program that knows how to find and use a compiler\n",
    "* pip - used for installing Python libraries\n",
    "* conda - used for Python virtual environments\n",
    "* echo - print out something, although it does have some other functionality\n",
    "* say - have your computer say something\n",
    "\n",
    "In the lecture, the instructor is using a cloud based version of Virtual Studio Code. There are benefits to using a cloud based IDE since everyone can run the same version of VS without worrying about different versions on their local computer. \n",
    "\n",
    "##### make\n",
    "To compile our above code, we can use \"make hello\" in our cli.<br>\n",
    "After we run that, we should see another file create called \"hello\" which is an executable we can run<br>\n",
    "We can run this executable with ./hello (./ indicates our current directory)\n",
    "\n",
    "\n",
    "\n"
   ]
  },
  {
   "cell_type": "markdown",
   "metadata": {},
   "source": [
    "##### Libraries/Extensions\n",
    "```c\n",
    "#include <stdio.h>\n",
    "#include <cs50.h>\n",
    "```\n",
    "\n",
    "Libraries are extensions to your code. For example, the get_string() function comes from the cs50.h library. So instead of creating these functions yourself (which can take a lot of time) you can use these libraries instead since a lot of the functionality of these functions are used pretty commonly  \n",
    "\n",
    "###### String Formatting\n",
    "```c\n",
    "#include <cs50.h>\n",
    "#include <stdio.h>\n",
    "\n",
    "int main(void)\n",
    "{\n",
    "    string answer = get_string(\"What's your name? \");\n",
    "    printf(\"hello %s\\n\" answer)\n",
    "}\n",
    "```\n",
    "\n",
    "In order to print out the answer stored in the variable answer, we need to format our code with %s and then call the variable outside of our string to let C know we want the answer variable to be used there.\n",
    "The printf function is now taking two parameters, the string and the variable answer"
   ]
  },
  {
   "cell_type": "markdown",
   "metadata": {},
   "source": [
    "#### int main(void) {}\n",
    "\n",
    "int main(void) {} is similar to Scratches when flag clicked block in a sense that it is what runs when executed \n"
   ]
  },
  {
   "cell_type": "markdown",
   "metadata": {},
   "source": [
    "##### Types\n",
    "In C there are several data types:\n",
    "* bool - true and false\n",
    "* char - single characters\n",
    "* double - floats that contain larger values\n",
    "* float - decimal numbers \n",
    "* int - integers \n",
    "* long - integers that can have a larger value\n",
    "* string - a string of characters\n",
    "\n"
   ]
  }
 ],
 "metadata": {
  "kernelspec": {
   "display_name": "Python 3.9.10 64-bit",
   "language": "python",
   "name": "python3"
  },
  "language_info": {
   "name": "python",
   "version": "3.9.10"
  },
  "orig_nbformat": 4,
  "vscode": {
   "interpreter": {
    "hash": "aee8b7b246df8f9039afb4144a1f6fd8d2ca17a180786b69acc140d282b71a49"
   }
  }
 },
 "nbformat": 4,
 "nbformat_minor": 2
}
