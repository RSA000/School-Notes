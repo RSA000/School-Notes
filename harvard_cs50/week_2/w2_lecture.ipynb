{
 "cells": [
  {
   "cell_type": "markdown",
   "metadata": {},
   "source": [
    "### Arrays\n",
    "\n",
    "* Machine langauge/code (0's and 1's) is the format every langauge needs to be converted to in order for our code to work. \n",
    "\n",
    "* Currently, we have been using make in the cli to compile our code\n",
    "\n",
    "* make is actually a utility that is used to make compiling easier. In reality make is running a command automatically known as clang\n",
    "\n",
    "* To compile using clang example: clang hello.c.\n",
    "    * This will produce a file called a.out. \n",
    "        * This is just a default file name if a name isn't specified\n",
    "        * You can specify a different name for example by typing: clang -o hello hello.c\n",
    "\n",
    "\n",
    "* To add libraries (such as cs50) we can use: clang -o hello hello.c -lcs50\n",
    "    * -o stands for output, -l is link\n",
    "\n",
    "\n",
    "\n"
   ]
  },
  {
   "cell_type": "markdown",
   "metadata": {},
   "source": [
    "### Compiling\n",
    "\n",
    "When you are compiling your code, you have your computer do four distinct things\n",
    "\n",
    "1. preprocessing\n",
    "    * \\#include \n",
    "        * prepocessor directives\n",
    "    * preprocessing involves things like including libraries. \n",
    "\n",
    "2. compiling\n",
    "    * to take the legacy code, and turn it into assembly langauge. Assembly langauge is about as close as you can get before actual 0's and 1's.\n",
    "\n",
    "3. assembling\n",
    "    * Assembly langauge is turned into binary \n",
    "\n",
    "4. linking\n",
    "    * since our previous example has code from the libraries, we combine our code binary from hello.c with cs50.c and stdio.c and link them all. "
   ]
  },
  {
   "cell_type": "markdown",
   "metadata": {},
   "source": [
    "### Debugging\n",
    "\n",
    " * debug50 is a debugger. Example: debug50 buggy\n",
    " * debugger will run through the code step by step \n",
    " * In VS code there are little red dots on the left you can click where you can set breakpoints.\n",
    " * The break points is where the program will stop. You have a few more tools that can change line of code your on or execute it. \n",
    " * There is also a box on the left that shows variables and what there values are.\n",
    "\n",
    " ##### Rubber Duck Debugging\n",
    " Rubber duck debugging is just talking through your code with an inatimate object or human\n"
   ]
  }
 ],
 "metadata": {
  "language_info": {
   "name": "python"
  },
  "orig_nbformat": 4
 },
 "nbformat": 4,
 "nbformat_minor": 2
}
