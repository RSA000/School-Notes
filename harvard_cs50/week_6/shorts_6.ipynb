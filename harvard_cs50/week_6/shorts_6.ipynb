{
 "cells": [
  {
   "cell_type": "markdown",
   "metadata": {},
   "source": [
    "### Python\n",
    "\n",
    "* C was first released in 1972, Python 1991\n",
    "\n",
    "* Python is usually run in a Python interpretor, similar to PHP\n",
    "\n",
    "* Currently, we are using Python3. Python2 is still used but older\n",
    "\n",
    "* Python has no type specifier and declares by initialization only\n",
    "\n",
    "* Python supports strings with \"\" and ''\n",
    "\n",
    "* Conditionals\n",
    "    * if\n",
    "    * else\n",
    "    * elif\n",
    "    * or \n",
    "    * and\n",
    "\n",
    "```python\n",
    "\n",
    "# example of Boolean one liner\n",
    "\n",
    "letters_only = True if input().isalpha() else False\n",
    "```\n",
    "\n",
    "* Loops\n",
    "    * while\n",
    "    * for\n",
    "\n",
    "* In python theres not really arrays (unless using numpy), they are more like linked lists\n",
    "\n",
    "* Tuples\n",
    "    * Ordered immutable set of data\n",
    "    * Great for associating collections of data, like a struct in C, but where those values are unlikely to change\n",
    "    * Tuples are iterable\n",
    "\n",
    "* Dictionaries\n",
    "    * Like a hash table in C\n",
    "\n",
    "\n",
    "* Objects\n",
    "    * Like structs in C except which allows methods which are like functions that pertain to that structure\n",
    "\n",
    "    * class is used to initialize objects\n",
    "\n"
   ]
  },
  {
   "cell_type": "markdown",
   "metadata": {},
   "source": []
  }
 ],
 "metadata": {
  "language_info": {
   "name": "python"
  },
  "orig_nbformat": 4
 },
 "nbformat": 4,
 "nbformat_minor": 2
}
