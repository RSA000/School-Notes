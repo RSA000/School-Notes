{
 "cells": [
  {
   "attachments": {},
   "cell_type": "markdown",
   "metadata": {},
   "source": [
    "### Chapter 6: An Introduction to System Software and Virtual Machine\n",
    "\n",
    "\"It has been said that computer science is \"the science of building pretend worlds\"\n",
    "\n",
    "The computer described in chapter 5 is informally known as a naked machine: hardware bereft of any helpful user-oriented features.\n",
    "\n",
    "* To make a Von Neumann computer usable, we must create an interface between the user and the hardware. This interface does the following things:\n",
    "\n",
    "1.  Hides from the user the messy details of the underlying hardware\n",
    "\n",
    "2. Presents information about what is happening in a way that does not require in-depth knowledge of the internal structure of the system\n",
    "\n",
    "3. Allows easy user access to the resources available on this computer\n",
    "\n",
    "4. Prevents accidental or intentional damage to hardware, programs and data\n",
    "\n"
   ]
  },
  {
   "attachments": {},
   "cell_type": "markdown",
   "metadata": {},
   "source": [
    "#### System Software\n",
    "\n",
    "* System software is a collection of computer programs that manages the resources of a computer and facilitates access to those resources. \n",
    "\n",
    "* Software consists of sequeences of instructions (programs) that solve a problem.\n",
    "\n",
    "* System software acts as an intermediary between the users and the hardware.\n",
    "\n",
    "* The set of services and resources created by the software and seen by the user is called a virtual machine or a virtual environment. \n",
    "\n"
   ]
  },
  {
   "attachments": {},
   "cell_type": "markdown",
   "metadata": {},
   "source": [
    "#### Types of System Software\n",
    "\n",
    "* System software is a collection of many different programs.\n",
    "\n",
    "* The program that controls the overall operation of the computer is the operating system, and it is the single most important piece of system software on a computer. \n",
    "\n",
    "* User interface - All modern operating systems provide a powerful graphical user interface (GUI) that gives the user an intuitive visual overview as well as graphical control of the capabilities and services of the computer.\n",
    "\n",
    "* Language services - These programs, called assemblers, compilers, and interpreters, allow you to write programs in a high-level, user-oriented language rather than the machine language of Chapter 5 and to execute these programs easily and efficiently. They often include components such as text editors and debuggers\n",
    "\n",
    "* Memory managers - These programs allocate memory space for programs and data and retrive this memory space when it is no longer needed.\n",
    "\n",
    "* Information managers - These programs handle the organization, storage, and retrieval of information on mass storage devices such as hard drives, CDs, DVDs, flash drives, and tapes. They allow you to organize your information in an efficient hierachichal manner , using directories, folders and file.\n",
    "\n",
    "* I/O Systems - These software packages allow you to easily and efficiently use the many different types of input and output devices that exist on a modern computer system.\n",
    "\n",
    "* Scheduler - This system programs keeps a list of programs ready to run on the processor, and it selects the one that will execute next. The scheduler allows you to have a number of different programs active at a single time, for instance, surfing the web while you are waiting for a file to finish printing.\n",
    "\n",
    "* Utilities - These collections of library routines provide a wide range of useful services either to a user or to other system routines. Text editors, online help routines, image and sound applications and control panels are example of utility routines. Sometimes these utilities are organized into collections called program libraries.\n",
    "\n",
    "Assembly example: label: op code mnemonic address field -- comment\n",
    "\n",
    "1. Assembly language program (Source program) -> assembler -> machine language program (Object program) -> Loader -> Machine language program loaded into memory -> Hardware -> Results\n",
    "\n",
    "\n",
    "* Assembly languages allow the programmer to refer to op codes using a symbolic name, called the op code mnemonic.\n",
    "\n",
    "Op Code examples: LOAD, ADD, STORE. \n",
    "\n",
    "Assembly code has advantages or machine code:\n",
    "\n",
    "1. Code clarity and arrangment is easier. \n",
    "\n",
    "2. Use of op code mnemonics \n",
    "\n",
    "3. Data generation is made much easier (can use actualy numbers instead of binary)\n",
    "    * A pseudo-op is a special type of assembly language op code.\n",
    "\n"
   ]
  },
  {
   "attachments": {},
   "cell_type": "markdown",
   "metadata": {},
   "source": [
    "#### Examples of Assembly Language Code"
   ]
  }
 ],
 "metadata": {
  "language_info": {
   "name": "python"
  },
  "orig_nbformat": 4
 },
 "nbformat": 4,
 "nbformat_minor": 2
}
