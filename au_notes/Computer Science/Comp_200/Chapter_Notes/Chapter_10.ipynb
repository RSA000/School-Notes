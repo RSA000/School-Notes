{
 "cells": [
  {
   "attachments": {},
   "cell_type": "markdown",
   "metadata": {},
   "source": [
    "### Chapter 10\n",
    "\n",
    "#### Procedural Languages\n",
    "\n",
    "* Plankalkul\n",
    "\n",
    "* FORTRAN - Formula Translation. - allows external libraries.\n",
    "\n",
    "* COBOL - Common Business-Oriented Language - Developed in 1959 and 1960.\n",
    "\n",
    "* C - Developed in the early 1970's. Designed for systems programming, particularly for writing operating system UNIX.\n",
    "\n",
    "* C++ - Developed in the early 1980's. Is a superset of C.\n",
    "\n",
    "* Ada - Began development in the mid 1970s. \n",
    "\n",
    "* Java - Java is a modern, object-oriented language. Java programs come in two types: applitcations and applets. \n",
    "    * Applications are stand-alone programs that reside and run on a self-contained computer.\n",
    "        * Applets are prgrams designed to run from web pages. Applets are embedded in web pages on central servers.\n",
    "\n",
    "* Python - Originally created in the early 1990s. \n",
    "\n",
    "* C# and .NET - Successor in spirit to C+, but is a new language. Uses garbage collection.   \n",
    "\n",
    "* .NET - The microsoft .NET Framework is essentially a giant collection of tools for software development. The .NET Framework provides a whole library of classes for building GUIs with menus, buttons, etc...\n",
    "    * All .NET programs in whatever languages-are compiled into Microsoft Intermediate Language (MSIL) code. MSIL is not tied to any particular plaatform.  The final step of compiling MSIL code into object code is done by a just-in-time compiler. \n",
    "    * Over 60 programming languages have been adapted to fit into the .NET framework.\n",
    "\n",
    "* A program to interact with an I/O device is called a device driver.\n",
    "\n",
    "\n"
   ]
  },
  {
   "attachments": {},
   "cell_type": "markdown",
   "metadata": {},
   "source": [
    "##### Special-Purpose Languages\n",
    "\n",
    "* SQL - Sequential Query Language. SQL is designed to work with databases. CRUD - Create, Read, Update, Delete, are the functions of the langauge. The main purpose of SQL is to interact with databases efficiently.\n",
    "\n",
    "* HTML - Hypertext Markup Language. HTML is iused to create HTML documents. HTML documents are viewed by Web browser software.\n",
    "\n",
    "* JavaScript - A scripting language is a \"lightweight\" language that is interpreted. Scripting language code fragments can be embedded in Web pages to moake those pages active rather than static."
   ]
  },
  {
   "attachments": {},
   "cell_type": "markdown",
   "metadata": {},
   "source": [
    "#### Alternative Programming Paradigms \n",
    "\n",
    "* A paradigm is a model or mental framework for representing or thinking about something.\n",
    "\n",
    "* Functional Programming\n",
    "\n",
    "* Logical Programming - Logic progamming languages are sometimes called declarative languages.\n",
    "\n",
    "* Parallel Programming.\n",
    "\n",
    "* SIMD - Single instruction stream/multiple data stream. - A single control unit broadcasts a single program instruction to multiple ALUs, all of which carry out that instruction in unison, using globally shared data as well as private data stored in local memory.\n",
    "\n",
    "* MIMD (Multiple instruction stream/multiple data stream) - interconnected processors independently execute their own program on their own data, communicatiing as needed with other processors. The MIMD model includes a number of different structures, such as multicore computing, in which two or more processors are packaged together on a single integrated circuit, and cluster computing.\n",
    "\n"
   ]
  },
  {
   "attachments": {},
   "cell_type": "markdown",
   "metadata": {},
   "source": [
    "#### Exercises\n",
    "\n",
    "9. In Python, indentation is used to indicate the exent of a block of code. What is the output of the following Python code?\n",
    "\n",
    "```python\n",
    "# Creating variables first and second with values: 3,5\n",
    "first = 3\n",
    "second = 5\n",
    "\n",
    "# if our variable first is smaller than second, print \"second is bigger\n",
    "if first < second:\n",
    "    print (\"second is bigger\")\n",
    "    # If not, print \"but this time \n",
    "else:\n",
    "    print (\"but this time \")\n",
    "    # regardless of the previous if/else statements, print \"first is bigger\"\n",
    "print(\"first is bigger\")\n",
    "\n",
    "```\n",
    "\n",
    "The output of this code would be: \n",
    "\"Second is bigger \\n (new line since there are two print statements and Python 3 has a default newline character at the end of a print statement)first is bigger\" since first = 3 which is less than second = 5\n",
    "\n",
    "The else statement does not run since first is indeed less than second.\n",
    "\n",
    "the final print statement \"first is bigger\" also runs since it is outside of the if/else statements.\n"
   ]
  },
  {
   "cell_type": "code",
   "execution_count": 5,
   "metadata": {},
   "outputs": [
    {
     "name": "stdout",
     "output_type": "stream",
     "text": [
      "second is bigger\n",
      "first is bigger\n"
     ]
    }
   ],
   "source": [
    "first = 3\n",
    "second = 5\n",
    "\n",
    "if first < second:\n",
    "    print(\"second is bigger\")\n",
    "else:\n",
    "    print(\"but this time \")\n",
    "print(\"first is bigger\")"
   ]
  },
  {
   "cell_type": "code",
   "execution_count": null,
   "metadata": {},
   "outputs": [],
   "source": []
  }
 ],
 "metadata": {
  "kernelspec": {
   "display_name": "Python 3",
   "language": "python",
   "name": "python3"
  },
  "language_info": {
   "codemirror_mode": {
    "name": "ipython",
    "version": 3
   },
   "file_extension": ".py",
   "mimetype": "text/x-python",
   "name": "python",
   "nbconvert_exporter": "python",
   "pygments_lexer": "ipython3",
   "version": "3.9.6"
  },
  "orig_nbformat": 4
 },
 "nbformat": 4,
 "nbformat_minor": 2
}
