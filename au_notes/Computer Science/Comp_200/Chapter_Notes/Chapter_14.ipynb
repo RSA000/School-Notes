{
 "cells": [
  {
   "attachments": {},
   "cell_type": "markdown",
   "metadata": {},
   "source": [
    "#### Electronic Commerce and Databases\n",
    "\n",
    "#### E-Commerce\n",
    "\n",
    "* Application Service Provider - ASP\n",
    "\n",
    "#### Anatomy of a Transaction\n",
    "\n",
    "* The number-one attraction to online shopping is convenience.\n",
    "\n",
    "* ICANN (Internet Corporation for Assigned Names and Numbers.)\n",
    "\n",
    "* A cookie is a small text file that the Web server sends to the user's browser and that gets stored in the user's hard drive. It contains personal information about the user, such as name, address, time of visit, and what was looked at or bought on the customers next visit to that same site, the browser sends the cookie back to the server (along with the page request) so the server can create a customized page just for this shopper.\n",
    "\n",
    "* Transmission of Web pages between a client and server is stateless: that is, no information about this exchange is permanently retained by the server.\n",
    "\n",
    " * Encryption encodes the data to be transmitted into a scrambled form, using a scheme agreed upon between the sender and the receiver. Although encryption provides for the secure transmission of data, this is of little use if the data are not being sent to the correct party. \n",
    "\n",
    " * Authentication is the process of verifying the identity of the receiver of the data.\n",
    "\n",
    "* Secure Sockets Layers - SSL \n",
    "\n",
    "* TLS (Transport Layer Security)\n",
    "\n",
    "\n"
   ]
  },
  {
   "attachments": {},
   "cell_type": "markdown",
   "metadata": {},
   "source": [
    "#### Designing Your Web Site.\n",
    "\n",
    "* Taxonomy-how information is classified and organized so customers can easily find what they want.\n",
    "\n",
    "* Customers should be able to get to any part of a website in 4 clicks or fewer.\n",
    "\n",
    "* ADA - Americans with Disabilities Act\n",
    "\n",
    "* Middleware - software that allows separate, existing programs to communicate and work together seamlessly. Middleware packages translate between incompatible data representations, file formats and network, protocols. "
   ]
  },
  {
   "attachments": {},
   "cell_type": "markdown",
   "metadata": {},
   "source": [
    "#### Databases \n",
    "\n",
    "* A group of bytes is used to represent a string of characters-say, the name of an employee in a company or a larger numerical value. Such a group of bytes is called a field.\n",
    "\n",
    "* A collection of related fields-say, all the information about a single employee is called a record.\n",
    "\n",
    "* Bits combine to form bytes\n",
    "* Bytes combine to form fields\n",
    "* Fields combine to form records\n",
    "* Records combine to form files\n",
    "* Files combine to form databases\n",
    "\n"
   ]
  },
  {
   "attachments": {},
   "cell_type": "markdown",
   "metadata": {},
   "source": [
    "#### Database Management Systems\n",
    "\n",
    "A Database management system (DBMS) manages the files in a database.\n",
    "\n",
    "* A relational databse model - two-dimensional table.\n",
    "\n",
    "* The table represents information about an entity, a fundamental distinguishable component.\n",
    "\n",
    "* A row of the table contains data about one instance of this entity- and the row is called a tuple.\n",
    "\n",
    "* Each category of information is called an attribute.\n",
    "\n",
    "* A primary key is an attribute or combination of attributes that uniquely identifies atuple.\n",
    "\n",
    "* SQL (Sturcture Query Language)\n",
    "\n",
    "\n",
    "Three relational database operations\n",
    "\n",
    "* Project - Pick out certain attributes from a set of tuples\n",
    "\n",
    "* Restrict - Pick out tuples that meet a certain condition.\n",
    "\n",
    "* Join - Match tuples from two different relational tables using a common attribute.\n",
    "\n",
    "\n",
    "#### Other Considerations\n",
    "\n",
    "* Entity integrity says that no primary key value, or no component of a composite primary key value, can be missing. \n",
    "\n",
    "* Data integrity rule specifies that values for a particular attribute must come from the appropriate category of information for that attribute.\n",
    "\n",
    "* Referential integrity specifies that any value of a foreign key attribute in a given table must match a value in the corresponding primary keys of the related table.\n",
    "\n",
    "* Distributed databases allow the physical data to reside at separate and independent locations that are electronically networked togeether. The user at side A makes a database qury that needs access to data physically stored at site B.\n",
    "\n"
   ]
  },
  {
   "attachments": {},
   "cell_type": "markdown",
   "metadata": {},
   "source": [
    "\n",
    "#### Exercises\n",
    "\n",
    "4. Using the Employees table of Figure 14.6 what is the result of the following SQL query?\n",
    "\n",
    "SELECT * FROM Employees\n",
    "WHERE HoursWorked < 100;\n",
    "\n",
    "We can break this query into 2 steps\n",
    "\n",
    "* SELECT * FROM Employees - Grab all attributes of each entity from the employees table.\n",
    "\n",
    "* WHERE HourseWorked < 100; - Where the HoursWorked coloumn attribute is less than 100 hours.\n",
    "\n",
    "Our output should look like this:\n",
    "|ID |LastName |FirstName |BirthDate |PayRate |HoursWorked |\n",
    "116 Kay Janet 3/29/1976 $16.60 94\n",
    "165 Honou Morris 6/9/1993 $6.70 53\n"
   ]
  }
 ],
 "metadata": {
  "language_info": {
   "name": "python"
  },
  "orig_nbformat": 4
 },
 "nbformat": 4,
 "nbformat_minor": 2
}
