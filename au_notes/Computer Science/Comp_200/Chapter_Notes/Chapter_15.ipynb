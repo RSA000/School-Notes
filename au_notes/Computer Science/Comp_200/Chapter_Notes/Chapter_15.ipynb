{
 "cells": [
  {
   "attachments": {},
   "cell_type": "markdown",
   "metadata": {},
   "source": [
    "#### Artificial Intelligence\n",
    "\n",
    "* AI is a brach of computer science that explores techniques for incorporating aspects of intelligence into computer systems.\n",
    "\n",
    "* The Turing test allows a human to interrogate to entities, both hidden from the interrogator. One entity is a human and the other a machine. The interrogator can ask the entities questions and recieve their responses. The communication is carried on in some form that does not alone reveal which entity is a computer; for example, the interrogator's question could be typed on a keyboard and the respnoses printed out. If, as a result of this questioning, the interrogator is unable to determine which entity is the human and which the computer, then the computer has exhibited sufficiently human intelligence to pass the Turing test.\n",
    "\n"
   ]
  },
  {
   "attachments": {},
   "cell_type": "markdown",
   "metadata": {},
   "source": []
  },
  {
   "attachments": {},
   "cell_type": "markdown",
   "metadata": {},
   "source": [
    "#### A Division of Labor\n",
    "\n",
    "* Computational tasks\n",
    "    * Adding a column of numbers\n",
    "    * sorting a list of numbers into numerical order\n",
    "    * Searching for a given name in a list of names\n",
    "    * Managing a payroll\n",
    "    * Calculating trajectory adjustments for the space shuttle.\n",
    "\n",
    "\n",
    "* Recognition tasks\n",
    "    * Recognizing your best friend\n",
    "    * Understanding the spoken word\n",
    "    * Finding the tennis ball in the grass in your backyard\n",
    "\n",
    "\n",
    "* Reasoning tasks\n",
    "    * Planning what to wear today\n",
    "    * Deciding on the strategic direction a company should follow for the next 5 years\n",
    "    * Running the triage center in a hospital emergency room after an earthquake\n",
    "\n",
    "\n"
   ]
  },
  {
   "attachments": {},
   "cell_type": "markdown",
   "metadata": {},
   "source": [
    "#### Knowledge Representation\n",
    "\n",
    "* Natural\n",
    "\n",
    "* Formal\n",
    "\n",
    "* Pictorial\n",
    "\n",
    "* Graphical\n",
    "\n",
    "Any knowledge representation scheme that we select must have the following four characteristics\n",
    "\n",
    "1. Adequacy - The representation method must be adequate to capture all of the relevent knowledge. Because of its rich, expressive powers, a natural language representation will surely capture a lot of knowledge.\n",
    "However, it might be difficult to extract exactly what that knowledge is. You might have to wade through a lot of unnecessary verbiage, and you must also understand the nuances of meaning within natural language. A formal language representation has the advantage of extracting the essentials.\n",
    "\n",
    "2. Efficiency - We want the representational form to be minimalist, avoiding redundant information wherever possible. This means allowing some knowledge that is not explicitly represented to be inferred from the knowledge that is explicitly represented.\n",
    "\n",
    "\n",
    "3.. Extendability - It should be relatively easy to extend the representation to include new knowledge.\n",
    "\n",
    "* Appropriateness - The representation scheme used to be appropriate for the knowledge domain being represented.\n",
    "\n",
    "\n"
   ]
  },
  {
   "attachments": {},
   "cell_type": "markdown",
   "metadata": {},
   "source": [
    "#### Recognition Tasks\n",
    "\n",
    "* The human brain uses connectionists architecture, characterized by a large number of simple \"processors\" with multiple interconnections. \n",
    "\n",
    "* Artificial neural networks, usually just call neural networks, can be created by simulating individual neorons in hardware and connecting them in a massively parallel network of simple devices that act somewhat like biological neurons.\n"
   ]
  },
  {
   "attachments": {},
   "cell_type": "markdown",
   "metadata": {},
   "source": [
    "#### Reasoning Tasks\n",
    "\n",
    "* A decision tree for a search algorithm illustrates the possible next choices of items to search if the current item is not the target. In a sequential search, there is only one item to try next: the next item in the list. The decision tree for sequential search is linear.\n",
    "\n",
    "* A decision tree for a binary search, reflects the fact that if the current item is not the target, there are only two next choices: the midpoint of the sublist before this node or the midpoint of the sublist after this node. Furthermore, the binary search algorithm specifies which of the two nodes to try next.\n",
    "\n",
    "The classical search problem benefits from two simplications:\n",
    "\n",
    "1. The search domain (the set of items being searched) is a linear list. At each point point in the search, if the target is not found, the choice of where to look next is highly constrained.\n",
    "\n",
    "2. We seek a perfect match, so the comparison of the target against the list item result in a binary decision - either they match or they do not.\n",
    "\n",
    "Suppose, however, that condition 1 does not hold; the search domain is such that after any one node has been searched, there are a huge number of next choices to try, and there is no algorithm to dictate the next choice.\n",
    "\n",
    "This is called a state-space graph, and we seek to perform a state-space search to find a soloution path through the graph.\n",
    "\n",
    "* Heuristic means a roughly educated guess\n",
    "\n"
   ]
  },
  {
   "attachments": {},
   "cell_type": "markdown",
   "metadata": {},
   "source": [
    "#### Swarm Intelligence\n",
    "\n",
    "* The swarm intelligence model captures this behavior. Computer scientists create algorithms that simulate the process of having simple agens operate independently and follow each other's \"trails\" to find the most efficient routes. This algorithmic approach is called Ant Colony Optimization (ACO) and has been used commercially in vehicle routing, job scheduling, and sensing of biological and chemical contaminants. Research is under way to use such simple agents in telecommunications networks to avoid the complexity of a centralized control system to compute and distribute routing tables within a network. "
   ]
  },
  {
   "attachments": {},
   "cell_type": "markdown",
   "metadata": {},
   "source": [
    "#### Intelligent Agents\n",
    "\n",
    "An intelligen agent is a form of software technology that is designed to interact collaboratively with a user somewhat in the mode of a personal assistant. \n",
    "\n"
   ]
  },
  {
   "attachments": {},
   "cell_type": "markdown",
   "metadata": {},
   "source": [
    "#### Expert Systems\n",
    "\n",
    "Expert systems, also called rule-based system or knowledge based systems.\n",
    "\n",
    "An expert system must contain these two components\n",
    "\n",
    "* A knowledge base - A set of facts about the subject matter.\n",
    "\n",
    "* An inference engine - A mechanism for selecting the relevant facts for reasoning frrom them in a logical way.\n",
    "\n",
    "* Note that the knowledge base contains facts about a specific subject domain to narrow the scope to a manageable size.\n",
    "\n",
    "* Modus ponens - method of assertion. \n",
    "\n",
    "* Forward chaining begins with assertions and tries to match those assertions to the \"if\" clauses of rules, thereby generating new assertions. \n",
    "\n",
    "* Backward chaining begines with a proposed conclusion and tries to match it with the then clauses of rules. It then looks at the corresponding \"if\" clauses and tries to match those with assertions, or with then clauses of other rules.\n",
    "\n",
    "* Most  rule-based systems also have an explanation facility. This allows the user to see the assertions and rules used in arriving at a conclusion, as a sort of check on the path of reasoning or for the user's own enlightenment.\n",
    "\n"
   ]
  },
  {
   "attachments": {},
   "cell_type": "markdown",
   "metadata": {},
   "source": [
    "#### Robotics\n",
    "\n",
    "1. An argument called the Chinese Room argument (similar in many ways to the Turing test) challenges whether true artificial intelligence is even possible. This argument has provoked much discussion, and many replies that claim to refute it. \n",
    "\n",
    "a. Describe the Chinese Room argument\n",
    "\n",
    "A person is inside a room with a program on how to respond to Chinese symbols slipped underneath the door. The person cannot themselves understand the symbols but by following the program and manipulating the symbols, they are able respond back correctly to the symbols. This will lead to people outside the room to believe there is a Chinese speaker in the room. \n",
    "This concludes that a computer can be programmed to appear to understand language but it reality does not. A computer is simply following syntactical rules without really understanding. \n",
    "\n",
    "b. Pick one of the replies and describe it. Does it seem to invalidate the Chinese Room argument. \n",
    "\n",
    "The Robot Reply concedes to the  the Chinese Room argument but believes in externalism. The reply suggests that if we create a robot that can move around and has sensor for various inputs such as light, touch, and sound, that the robot could learn things the way a child does, by association. The reply believes that indeed a computer in a room only processing symbols could not truly understand a language because it lacks an ability to associate and learn what symbols actually relate to. The reply does not invalidate the example of a computer in a locked room but it does invalidate that a computer cannot truly understand language."
   ]
  }
 ],
 "metadata": {
  "language_info": {
   "name": "python"
  },
  "orig_nbformat": 4
 },
 "nbformat": 4,
 "nbformat_minor": 2
}
