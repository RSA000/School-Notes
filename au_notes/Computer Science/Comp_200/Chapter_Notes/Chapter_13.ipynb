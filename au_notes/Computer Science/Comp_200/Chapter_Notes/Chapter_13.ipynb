{
 "cells": [
  {
   "attachments": {},
   "cell_type": "markdown",
   "metadata": {},
   "source": [
    "#### Simulation and Modelling\n",
    "\n",
    "* The scientific method entails observing the behavior of a system and formulating a hypothesis that tries to understand and explain that behavior.\n",
    "We then carry out experiments to either prove or disprove the validity of our hypothesis. \n",
    "\n",
    "* A model is a representation of the system being studied, which we claim behaves much like the original. If that claim is true, then we can experiment on the model and use these results to understand the behavior of the actual system.\n",
    "\n",
    "    * Computational models, also called simulation models.\n",
    "\n",
    "    * Why construct a simulation model? Why not simply study the system itself, or a physical replica of the system?\n",
    "\n",
    "    * Existence-The system might not yet exists, so it is not possible to experiment directly on the actual system. In fact, we might be using a model to help us with the construction of the system.\n",
    "\n",
    "    * Physical realization-The sytem is not constructed from entities that can be represented by physical objects. For example, it may be a social system that can only be simulated on a computer.\n",
    "\n",
    "    * Safety-It might be too dangerous to experiment on the actual system or a physical replica.\n",
    "\n",
    "    * Speed of construction-It might take too much time to construct a physical model. Sometimes it is faster to design and build a computer simulation.\n",
    "\n",
    "    * Time scale-Some physical systems change too slowly or too quickly. \n",
    "\n",
    "    * Ethical behavior-Some physical models have serios moral and ethical consequences, perhaps the best known being the use of animals in medical research. In this case, a computational model could eliminate a great deal of suffering.\n",
    "\n",
    "    * Ease of modification-If we are not happy with out original design, we would need to construct a brand-new physical model. In a simulation, we only need to change some numerical parameters and rerun the existing model.\n",
    "\n",
    "* Ease of modification makes computational modelling a particularly attractie tool for designing totaly new systems.\n",
    "\n",
    "\n"
   ]
  },
  {
   "attachments": {},
   "cell_type": "markdown",
   "metadata": {},
   "source": [
    "#### Computational Models, Accuracy, and Errors\n",
    "\n",
    "* A model must have a balance of accuracy and complexity.\n",
    "\n",
    "* Stochastic components- There are parts of the system that display random behavior.\n",
    "\n",
    "* An example of stachastic components: A business in which customers walk into the store at random times. In theses cases, we need to build models that use statistical approximiation rather than precise and exact equeations.\n",
    "\n"
   ]
  },
  {
   "attachments": {},
   "cell_type": "markdown",
   "metadata": {},
   "source": [
    "#### An Example of Model Buidling.\n",
    "\n",
    "* Discrete event simulation. In a discrete even simulation, we do not model time as continuous, like the falling body model in the last section, but as a discrete. That is, we model the behavior of a system only at an explicity and finite set of times. The moments we model are those times when an event takes place, an event being any activity that changes the state of our system. For example, if we are modeling the operation of a department store, an event might be a new customer entering the store, a customer purchasing an item, or a customer departing the building.\n",
    "\n",
    "* Statistical distribution is a mathematical equation specifying the probability that a random variable takes on a certain value. If we know this pattern, then the computer can generate a sequence of ranodom numbers that follows this pattern, and this sequence will accurately model the time it takes to serve customer in real life.\n",
    "\n",
    "* ONe of the responsibilities of a simulation is to \"collect data describing its behavior.\"\n",
    "\n"
   ]
  },
  {
   "attachments": {},
   "cell_type": "markdown",
   "metadata": {},
   "source": [
    "#### Running the Model and Visualizing Results.\n",
    "\n",
    "* The field of scientific visualization is concerned with the issue of how to visualize data in a way that highlights its important characteristics and simplifies its interpretation.\n",
    "\n",
    "* The term scientific visualization is often treated as synonymous with the related term computer graphics, but there is an important difference. The field of computer graphics is concerned with the technical issues involved in information display. That is, it deals with the actual algorithms for rendering a screen image-light sources, shadows, . Scientific visualization, on the other hand, is concerned with how to display a large data set in a way that is most helpful for user and that maximises its comprehension. It is concerned with issues such as data presentation, determining the optimal format for presenting data, data extraction, determiing which values are important and should be included and which ones can safely be omitted, and data manipulation, converting the other to other forms or to different units that make the information easier to understand and interpret. \n",
    "\n",
    "\n",
    "d"
   ]
  },
  {
   "attachments": {},
   "cell_type": "markdown",
   "metadata": {},
   "source": [
    "#### Exercises\n",
    "\n",
    "9. Do you think that inclusion of the following parameters in the McBurgers model would or would not increase the accuracy of the model and its abiliity to predit real-world behavior.\n",
    "\n",
    "1. Age of the customer\n",
    "2. Sex of the customer\n",
    "3. Height of the customer\n",
    "\n",
    "1. Age plays a factor in overall service time. Speaking from experience, older populations tend to come in larger groups and order a large amounts of coffee but don't order much food. Younger people tend to get less predictable orders when compared to more regular, older, customers. People in their 30's-40's are the more likely to be ordering for a group. Overall, I think including age would increase the accuracy of the model.\n",
    "\n",
    "2. I don't believe sex plays much of a factor. Females on average might order less food, but I don't believe it's significant enough to make a difference. Fast food restaurants try to have a regular service time for all the food that comes out so the quantity for a single person doesn't really matter.\n",
    "\n",
    "3. I don't think height plays a factor at all. A persons height may indicate a larger or smaller appetite on average, but most likely would be insignificant. "
   ]
  }
 ],
 "metadata": {
  "language_info": {
   "name": "python"
  },
  "orig_nbformat": 4
 },
 "nbformat": 4,
 "nbformat_minor": 2
}
